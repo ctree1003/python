{
 "cells": [
  {
   "cell_type": "code",
   "execution_count": 1,
   "metadata": {},
   "outputs": [],
   "source": [
    "import numpy as np\n",
    "import pandas as pd\n",
    "# 오류 무시\n",
    "import warnings\n",
    "warnings.filterwarnings('ignore')"
   ]
  },
  {
   "cell_type": "code",
   "execution_count": 2,
   "metadata": {},
   "outputs": [],
   "source": [
    "df = pd.read_csv(\"winequality-red.csv\")"
   ]
  },
  {
   "cell_type": "code",
   "execution_count": 3,
   "metadata": {},
   "outputs": [
    {
     "data": {
      "text/html": [
       "<div>\n",
       "<style scoped>\n",
       "    .dataframe tbody tr th:only-of-type {\n",
       "        vertical-align: middle;\n",
       "    }\n",
       "\n",
       "    .dataframe tbody tr th {\n",
       "        vertical-align: top;\n",
       "    }\n",
       "\n",
       "    .dataframe thead th {\n",
       "        text-align: right;\n",
       "    }\n",
       "</style>\n",
       "<table border=\"1\" class=\"dataframe\">\n",
       "  <thead>\n",
       "    <tr style=\"text-align: right;\">\n",
       "      <th></th>\n",
       "      <th>fixed acidity</th>\n",
       "      <th>volatile acidity</th>\n",
       "      <th>citric acid</th>\n",
       "      <th>residual sugar</th>\n",
       "      <th>chlorides</th>\n",
       "      <th>free sulfur dioxide</th>\n",
       "      <th>total sulfur dioxide</th>\n",
       "      <th>density</th>\n",
       "      <th>pH</th>\n",
       "      <th>sulphates</th>\n",
       "      <th>alcohol</th>\n",
       "      <th>quality</th>\n",
       "    </tr>\n",
       "  </thead>\n",
       "  <tbody>\n",
       "    <tr>\n",
       "      <th>0</th>\n",
       "      <td>7.4</td>\n",
       "      <td>0.70</td>\n",
       "      <td>0.00</td>\n",
       "      <td>1.9</td>\n",
       "      <td>0.076</td>\n",
       "      <td>11.0</td>\n",
       "      <td>34.0</td>\n",
       "      <td>0.9978</td>\n",
       "      <td>3.51</td>\n",
       "      <td>0.56</td>\n",
       "      <td>9.4</td>\n",
       "      <td>5</td>\n",
       "    </tr>\n",
       "    <tr>\n",
       "      <th>1</th>\n",
       "      <td>7.8</td>\n",
       "      <td>0.88</td>\n",
       "      <td>0.00</td>\n",
       "      <td>2.6</td>\n",
       "      <td>0.098</td>\n",
       "      <td>25.0</td>\n",
       "      <td>67.0</td>\n",
       "      <td>0.9968</td>\n",
       "      <td>3.20</td>\n",
       "      <td>0.68</td>\n",
       "      <td>9.8</td>\n",
       "      <td>5</td>\n",
       "    </tr>\n",
       "    <tr>\n",
       "      <th>2</th>\n",
       "      <td>7.8</td>\n",
       "      <td>0.76</td>\n",
       "      <td>0.04</td>\n",
       "      <td>2.3</td>\n",
       "      <td>0.092</td>\n",
       "      <td>15.0</td>\n",
       "      <td>54.0</td>\n",
       "      <td>0.9970</td>\n",
       "      <td>3.26</td>\n",
       "      <td>0.65</td>\n",
       "      <td>9.8</td>\n",
       "      <td>5</td>\n",
       "    </tr>\n",
       "    <tr>\n",
       "      <th>3</th>\n",
       "      <td>11.2</td>\n",
       "      <td>0.28</td>\n",
       "      <td>0.56</td>\n",
       "      <td>1.9</td>\n",
       "      <td>0.075</td>\n",
       "      <td>17.0</td>\n",
       "      <td>60.0</td>\n",
       "      <td>0.9980</td>\n",
       "      <td>3.16</td>\n",
       "      <td>0.58</td>\n",
       "      <td>9.8</td>\n",
       "      <td>6</td>\n",
       "    </tr>\n",
       "    <tr>\n",
       "      <th>4</th>\n",
       "      <td>7.4</td>\n",
       "      <td>0.70</td>\n",
       "      <td>0.00</td>\n",
       "      <td>1.9</td>\n",
       "      <td>0.076</td>\n",
       "      <td>11.0</td>\n",
       "      <td>34.0</td>\n",
       "      <td>0.9978</td>\n",
       "      <td>3.51</td>\n",
       "      <td>0.56</td>\n",
       "      <td>9.4</td>\n",
       "      <td>5</td>\n",
       "    </tr>\n",
       "  </tbody>\n",
       "</table>\n",
       "</div>"
      ],
      "text/plain": [
       "   fixed acidity  volatile acidity  citric acid  residual sugar  chlorides  \\\n",
       "0            7.4              0.70         0.00             1.9      0.076   \n",
       "1            7.8              0.88         0.00             2.6      0.098   \n",
       "2            7.8              0.76         0.04             2.3      0.092   \n",
       "3           11.2              0.28         0.56             1.9      0.075   \n",
       "4            7.4              0.70         0.00             1.9      0.076   \n",
       "\n",
       "   free sulfur dioxide  total sulfur dioxide  density    pH  sulphates  \\\n",
       "0                 11.0                  34.0   0.9978  3.51       0.56   \n",
       "1                 25.0                  67.0   0.9968  3.20       0.68   \n",
       "2                 15.0                  54.0   0.9970  3.26       0.65   \n",
       "3                 17.0                  60.0   0.9980  3.16       0.58   \n",
       "4                 11.0                  34.0   0.9978  3.51       0.56   \n",
       "\n",
       "   alcohol  quality  \n",
       "0      9.4        5  \n",
       "1      9.8        5  \n",
       "2      9.8        5  \n",
       "3      9.8        6  \n",
       "4      9.4        5  "
      ]
     },
     "execution_count": 3,
     "metadata": {},
     "output_type": "execute_result"
    }
   ],
   "source": [
    "df.head()"
   ]
  },
  {
   "cell_type": "code",
   "execution_count": 4,
   "metadata": {},
   "outputs": [],
   "source": [
    "import matplotlib.pyplot as plt\n",
    "import seaborn as sns"
   ]
  },
  {
   "cell_type": "code",
   "execution_count": 5,
   "metadata": {
    "scrolled": true
   },
   "outputs": [
    {
     "data": {
      "text/plain": [
       "<matplotlib.axes._subplots.AxesSubplot at 0x98fb160>"
      ]
     },
     "execution_count": 5,
     "metadata": {},
     "output_type": "execute_result"
    },
    {
     "data": {
      "image/png": "[encoded data removed]",
      "text/plain": [
       "<Figure size 720x720 with 2 Axes>"
      ]
     },
     "metadata": {
      "needs_background": "light"
     },
     "output_type": "display_data"
    }
   ],
   "source": [
    "plt.figure(figsize=(10,10)) # 표 크기 조정\n",
    "sns.heatmap(df.corr(),annot=True, cmap='viridis')"
   ]
  },
  {
   "cell_type": "code",
   "execution_count": 6,
   "metadata": {
    "scrolled": true
   },
   "outputs": [
    {
     "data": {
      "text/plain": [
       "<matplotlib.axes._subplots.AxesSubplot at 0xa1cf198>"
      ]
     },
     "execution_count": 6,
     "metadata": {},
     "output_type": "execute_result"
    },
    {
     "data": {
      "image/png": "[encoded data removed]",
      "text/plain": [
       "<Figure size 432x288 with 1 Axes>"
      ]
     },
     "metadata": {
      "needs_background": "light"
     },
     "output_type": "display_data"
    }
   ],
   "source": [
    "sns.barplot(x = 'quality', y = 'alcohol', data = df) # 상관계수 0.48"
   ]
  },
  {
   "cell_type": "code",
   "execution_count": 7,
   "metadata": {
    "scrolled": true
   },
   "outputs": [
    {
     "data": {
      "text/plain": [
       "<matplotlib.axes._subplots.AxesSubplot at 0xa201588>"
      ]
     },
     "execution_count": 7,
     "metadata": {},
     "output_type": "execute_result"
    },
    {
     "data": {
      "image/png": "[encoded data removed]",
      "text/plain": [
       "<Figure size 432x288 with 1 Axes>"
      ]
     },
     "metadata": {
      "needs_background": "light"
     },
     "output_type": "display_data"
    }
   ],
   "source": [
    "sns.barplot(x = 'quality', y = 'sulphates', data = df) # 상관계수 0.25"
   ]
  },
  {
   "cell_type": "code",
   "execution_count": 8,
   "metadata": {
    "scrolled": true
   },
   "outputs": [
    {
     "data": {
      "text/plain": [
       "<matplotlib.axes._subplots.AxesSubplot at 0xa201e10>"
      ]
     },
     "execution_count": 8,
     "metadata": {},
     "output_type": "execute_result"
    },
    {
     "data": {
      "image/png": "[encoded data removed]",
      "text/plain": [
       "<Figure size 432x288 with 1 Axes>"
      ]
     },
     "metadata": {
      "needs_background": "light"
     },
     "output_type": "display_data"
    }
   ],
   "source": [
    "sns.barplot(x = 'quality', y = 'fixed acidity', data = df) # 상관계수 0.12"
   ]
  },
  {
   "cell_type": "code",
   "execution_count": 9,
   "metadata": {},
   "outputs": [],
   "source": [
    "bins = (2, 6.5, 8)  # 0 ~ 7이하는 bad, 7이상 부터 good\n",
    "group_names = ['bad', 'good']\n",
    "df['quality'] = pd.cut(df['quality'], bins = bins, labels = group_names)"
   ]
  },
  {
   "cell_type": "code",
   "execution_count": 10,
   "metadata": {},
   "outputs": [],
   "source": [
    "from sklearn.preprocessing import LabelEncoder # 문자열이나 정수로된 라벨 값을  0  ~  K−1 까지의 정수로 변환한다.\n",
    "label_quality = LabelEncoder()"
   ]
  },
  {
   "cell_type": "code",
   "execution_count": 11,
   "metadata": {},
   "outputs": [],
   "source": [
    "df['quality'] = label_quality.fit_transform(df['quality'])"
   ]
  },
  {
   "cell_type": "code",
   "execution_count": 12,
   "metadata": {},
   "outputs": [
    {
     "data": {
      "text/html": [
       "<div>\n",
       "<style scoped>\n",
       "    .dataframe tbody tr th:only-of-type {\n",
       "        vertical-align: middle;\n",
       "    }\n",
       "\n",
       "    .dataframe tbody tr th {\n",
       "        vertical-align: top;\n",
       "    }\n",
       "\n",
       "    .dataframe thead th {\n",
       "        text-align: right;\n",
       "    }\n",
       "</style>\n",
       "<table border=\"1\" class=\"dataframe\">\n",
       "  <thead>\n",
       "    <tr style=\"text-align: right;\">\n",
       "      <th></th>\n",
       "      <th>fixed acidity</th>\n",
       "      <th>volatile acidity</th>\n",
       "      <th>citric acid</th>\n",
       "      <th>residual sugar</th>\n",
       "      <th>chlorides</th>\n",
       "      <th>free sulfur dioxide</th>\n",
       "      <th>total sulfur dioxide</th>\n",
       "      <th>density</th>\n",
       "      <th>pH</th>\n",
       "      <th>sulphates</th>\n",
       "      <th>alcohol</th>\n",
       "      <th>quality</th>\n",
       "    </tr>\n",
       "  </thead>\n",
       "  <tbody>\n",
       "    <tr>\n",
       "      <th>0</th>\n",
       "      <td>7.4</td>\n",
       "      <td>0.70</td>\n",
       "      <td>0.00</td>\n",
       "      <td>1.9</td>\n",
       "      <td>0.076</td>\n",
       "      <td>11.0</td>\n",
       "      <td>34.0</td>\n",
       "      <td>0.9978</td>\n",
       "      <td>3.51</td>\n",
       "      <td>0.56</td>\n",
       "      <td>9.4</td>\n",
       "      <td>0</td>\n",
       "    </tr>\n",
       "    <tr>\n",
       "      <th>1</th>\n",
       "      <td>7.8</td>\n",
       "      <td>0.88</td>\n",
       "      <td>0.00</td>\n",
       "      <td>2.6</td>\n",
       "      <td>0.098</td>\n",
       "      <td>25.0</td>\n",
       "      <td>67.0</td>\n",
       "      <td>0.9968</td>\n",
       "      <td>3.20</td>\n",
       "      <td>0.68</td>\n",
       "      <td>9.8</td>\n",
       "      <td>0</td>\n",
       "    </tr>\n",
       "    <tr>\n",
       "      <th>2</th>\n",
       "      <td>7.8</td>\n",
       "      <td>0.76</td>\n",
       "      <td>0.04</td>\n",
       "      <td>2.3</td>\n",
       "      <td>0.092</td>\n",
       "      <td>15.0</td>\n",
       "      <td>54.0</td>\n",
       "      <td>0.9970</td>\n",
       "      <td>3.26</td>\n",
       "      <td>0.65</td>\n",
       "      <td>9.8</td>\n",
       "      <td>0</td>\n",
       "    </tr>\n",
       "    <tr>\n",
       "      <th>3</th>\n",
       "      <td>11.2</td>\n",
       "      <td>0.28</td>\n",
       "      <td>0.56</td>\n",
       "      <td>1.9</td>\n",
       "      <td>0.075</td>\n",
       "      <td>17.0</td>\n",
       "      <td>60.0</td>\n",
       "      <td>0.9980</td>\n",
       "      <td>3.16</td>\n",
       "      <td>0.58</td>\n",
       "      <td>9.8</td>\n",
       "      <td>0</td>\n",
       "    </tr>\n",
       "    <tr>\n",
       "      <th>4</th>\n",
       "      <td>7.4</td>\n",
       "      <td>0.70</td>\n",
       "      <td>0.00</td>\n",
       "      <td>1.9</td>\n",
       "      <td>0.076</td>\n",
       "      <td>11.0</td>\n",
       "      <td>34.0</td>\n",
       "      <td>0.9978</td>\n",
       "      <td>3.51</td>\n",
       "      <td>0.56</td>\n",
       "      <td>9.4</td>\n",
       "      <td>0</td>\n",
       "    </tr>\n",
       "  </tbody>\n",
       "</table>\n",
       "</div>"
      ],
      "text/plain": [
       "   fixed acidity  volatile acidity  citric acid  residual sugar  chlorides  \\\n",
       "0            7.4              0.70         0.00             1.9      0.076   \n",
       "1            7.8              0.88         0.00             2.6      0.098   \n",
       "2            7.8              0.76         0.04             2.3      0.092   \n",
       "3           11.2              0.28         0.56             1.9      0.075   \n",
       "4            7.4              0.70         0.00             1.9      0.076   \n",
       "\n",
       "   free sulfur dioxide  total sulfur dioxide  density    pH  sulphates  \\\n",
       "0                 11.0                  34.0   0.9978  3.51       0.56   \n",
       "1                 25.0                  67.0   0.9968  3.20       0.68   \n",
       "2                 15.0                  54.0   0.9970  3.26       0.65   \n",
       "3                 17.0                  60.0   0.9980  3.16       0.58   \n",
       "4                 11.0                  34.0   0.9978  3.51       0.56   \n",
       "\n",
       "   alcohol  quality  \n",
       "0      9.4        0  \n",
       "1      9.8        0  \n",
       "2      9.8        0  \n",
       "3      9.8        0  \n",
       "4      9.4        0  "
      ]
     },
     "execution_count": 12,
     "metadata": {},
     "output_type": "execute_result"
    }
   ],
   "source": [
    "df.head()"
   ]
  },
  {
   "cell_type": "code",
   "execution_count": 13,
   "metadata": {},
   "outputs": [
    {
     "data": {
      "text/plain": [
       "0    1382\n",
       "1     217\n",
       "Name: quality, dtype: int64"
      ]
     },
     "execution_count": 13,
     "metadata": {},
     "output_type": "execute_result"
    }
   ],
   "source": [
    "df['quality'].value_counts() # 데이터의 불균형이 생겼다"
   ]
  },
  {
   "cell_type": "code",
   "execution_count": 25,
   "metadata": {
    "scrolled": false
   },
   "outputs": [
    {
     "data": {
      "text/plain": [
       "<matplotlib.axes._subplots.AxesSubplot at 0x132a59e8>"
      ]
     },
     "execution_count": 25,
     "metadata": {},
     "output_type": "execute_result"
    },
    {
     "data": {
      "image/png": "[encoded data removed]",
      "text/plain": [
       "<Figure size 432x288 with 1 Axes>"
      ]
     },
     "metadata": {
      "needs_background": "light"
     },
     "output_type": "display_data"
    }
   ],
   "source": [
    "sns.countplot(df['quality'])"
   ]
  },
  {
   "cell_type": "code",
   "execution_count": 14,
   "metadata": {},
   "outputs": [],
   "source": [
    "X = df.drop('quality', axis = 1)\n",
    "y = df['quality']"
   ]
  },
  {
   "cell_type": "code",
   "execution_count": 305,
   "metadata": {
    "scrolled": true
   },
   "outputs": [
    {
     "name": "stdout",
     "output_type": "stream",
     "text": [
      "Train on 1599 samples, validate on 320 samples\n",
      "Epoch 1/300\n",
      "1599/1599 [==============================] - 1s 705us/step - loss: 0.5342 - acc: 0.8136 - val_loss: 0.3634 - val_acc: 0.8906\n",
      "Epoch 2/300\n",
      "1599/1599 [==============================] - 0s 30us/step - loss: 0.4312 - acc: 0.8624 - val_loss: 0.3510 - val_acc: 0.8906\n",
      "Epoch 3/300\n",
      "1599/1599 [==============================] - 0s 24us/step - loss: 0.4074 - acc: 0.8643 - val_loss: 0.3414 - val_acc: 0.8906\n",
      "Epoch 4/300\n",
      "1599/1599 [==============================] - 0s 23us/step - loss: 0.3957 - acc: 0.8643 - val_loss: 0.3425 - val_acc: 0.8906\n",
      "Epoch 5/300\n",
      "1599/1599 [==============================] - 0s 22us/step - loss: 0.3875 - acc: 0.8643 - val_loss: 0.3469 - val_acc: 0.8875\n",
      "Epoch 6/300\n",
      "1599/1599 [==============================] - 0s 22us/step - loss: 0.3765 - acc: 0.8624 - val_loss: 0.3210 - val_acc: 0.8906\n",
      "Epoch 7/300\n",
      "1599/1599 [==============================] - 0s 21us/step - loss: 0.3707 - acc: 0.8630 - val_loss: 0.3194 - val_acc: 0.8844\n",
      "Epoch 8/300\n",
      "1599/1599 [==============================] - 0s 23us/step - loss: 0.3680 - acc: 0.8630 - val_loss: 0.3166 - val_acc: 0.8844\n",
      "Epoch 9/300\n",
      "1599/1599 [==============================] - 0s 21us/step - loss: 0.3673 - acc: 0.8637 - val_loss: 0.3083 - val_acc: 0.8875\n",
      "Epoch 10/300\n",
      "1599/1599 [==============================] - 0s 23us/step - loss: 0.3663 - acc: 0.8643 - val_loss: 0.3501 - val_acc: 0.8875\n",
      "Epoch 11/300\n",
      "1599/1599 [==============================] - 0s 21us/step - loss: 0.3514 - acc: 0.8637 - val_loss: 0.3216 - val_acc: 0.8906\n",
      "Epoch 12/300\n",
      "1599/1599 [==============================] - 0s 21us/step - loss: 0.3527 - acc: 0.8637 - val_loss: 0.3108 - val_acc: 0.8844\n",
      "Epoch 13/300\n",
      "1599/1599 [==============================] - 0s 21us/step - loss: 0.3447 - acc: 0.8630 - val_loss: 0.3173 - val_acc: 0.8844\n",
      "Epoch 14/300\n",
      "1599/1599 [==============================] - 0s 21us/step - loss: 0.3418 - acc: 0.8630 - val_loss: 0.3029 - val_acc: 0.8844\n",
      "Epoch 15/300\n",
      "1599/1599 [==============================] - 0s 21us/step - loss: 0.3380 - acc: 0.8643 - val_loss: 0.2971 - val_acc: 0.8844\n",
      "Epoch 16/300\n",
      "1599/1599 [==============================] - 0s 21us/step - loss: 0.3333 - acc: 0.8630 - val_loss: 0.2954 - val_acc: 0.8844\n",
      "Epoch 17/300\n",
      "1599/1599 [==============================] - 0s 20us/step - loss: 0.3349 - acc: 0.8687 - val_loss: 0.2897 - val_acc: 0.8844\n",
      "Epoch 18/300\n",
      "1599/1599 [==============================] - 0s 21us/step - loss: 0.3369 - acc: 0.8612 - val_loss: 0.2887 - val_acc: 0.8844\n",
      "Epoch 19/300\n",
      "1599/1599 [==============================] - 0s 21us/step - loss: 0.3238 - acc: 0.8649 - val_loss: 0.2868 - val_acc: 0.8844\n",
      "Epoch 20/300\n",
      "1599/1599 [==============================] - 0s 21us/step - loss: 0.3279 - acc: 0.8649 - val_loss: 0.2878 - val_acc: 0.8844\n",
      "Epoch 21/300\n",
      "1599/1599 [==============================] - 0s 21us/step - loss: 0.3337 - acc: 0.8643 - val_loss: 0.2817 - val_acc: 0.8844\n",
      "Epoch 22/300\n",
      "1599/1599 [==============================] - 0s 21us/step - loss: 0.3167 - acc: 0.8674 - val_loss: 0.3146 - val_acc: 0.8938\n",
      "Epoch 23/300\n",
      "1599/1599 [==============================] - 0s 21us/step - loss: 0.3148 - acc: 0.8655 - val_loss: 0.2778 - val_acc: 0.8844\n",
      "Epoch 24/300\n",
      "1599/1599 [==============================] - 0s 21us/step - loss: 0.3119 - acc: 0.8668 - val_loss: 0.2839 - val_acc: 0.8875\n",
      "Epoch 25/300\n",
      "1599/1599 [==============================] - 0s 21us/step - loss: 0.3140 - acc: 0.8649 - val_loss: 0.2883 - val_acc: 0.9000\n",
      "Epoch 26/300\n",
      "1599/1599 [==============================] - 0s 21us/step - loss: 0.3201 - acc: 0.8687 - val_loss: 0.3127 - val_acc: 0.9000\n",
      "Epoch 27/300\n",
      "1599/1599 [==============================] - 0s 21us/step - loss: 0.3273 - acc: 0.8655 - val_loss: 0.2755 - val_acc: 0.8875\n",
      "Epoch 28/300\n",
      "1599/1599 [==============================] - 0s 22us/step - loss: 0.3074 - acc: 0.8693 - val_loss: 0.2883 - val_acc: 0.8969\n",
      "Epoch 29/300\n",
      "1599/1599 [==============================] - 0s 21us/step - loss: 0.3133 - acc: 0.8705 - val_loss: 0.2839 - val_acc: 0.9000\n",
      "Epoch 30/300\n",
      "1599/1599 [==============================] - 0s 21us/step - loss: 0.3043 - acc: 0.8693 - val_loss: 0.2733 - val_acc: 0.8906\n",
      "Epoch 31/300\n",
      "1599/1599 [==============================] - 0s 20us/step - loss: 0.3011 - acc: 0.8693 - val_loss: 0.2706 - val_acc: 0.8875\n",
      "Epoch 32/300\n",
      "1599/1599 [==============================] - 0s 21us/step - loss: 0.3079 - acc: 0.8712 - val_loss: 0.2877 - val_acc: 0.8969\n",
      "Epoch 33/300\n",
      "1599/1599 [==============================] - 0s 21us/step - loss: 0.2977 - acc: 0.8743 - val_loss: 0.2854 - val_acc: 0.9031\n",
      "Epoch 34/300\n",
      "1599/1599 [==============================] - 0s 21us/step - loss: 0.3024 - acc: 0.8718 - val_loss: 0.2770 - val_acc: 0.9000\n",
      "Epoch 35/300\n",
      "1599/1599 [==============================] - 0s 21us/step - loss: 0.2951 - acc: 0.8780 - val_loss: 0.2679 - val_acc: 0.8844\n",
      "Epoch 36/300\n",
      "1599/1599 [==============================] - 0s 21us/step - loss: 0.3000 - acc: 0.8724 - val_loss: 0.2663 - val_acc: 0.8969\n",
      "Epoch 37/300\n",
      "1599/1599 [==============================] - 0s 20us/step - loss: 0.2957 - acc: 0.8730 - val_loss: 0.2655 - val_acc: 0.8969\n",
      "Epoch 38/300\n",
      "1599/1599 [==============================] - 0s 21us/step - loss: 0.2948 - acc: 0.8762 - val_loss: 0.2972 - val_acc: 0.9000\n",
      "Epoch 39/300\n",
      "1599/1599 [==============================] - 0s 21us/step - loss: 0.2957 - acc: 0.8699 - val_loss: 0.2668 - val_acc: 0.8969\n",
      "Epoch 40/300\n",
      "1599/1599 [==============================] - 0s 22us/step - loss: 0.2951 - acc: 0.8712 - val_loss: 0.2683 - val_acc: 0.9062\n",
      "Epoch 41/300\n",
      "1599/1599 [==============================] - 0s 21us/step - loss: 0.2917 - acc: 0.8718 - val_loss: 0.2622 - val_acc: 0.8938\n",
      "Epoch 42/300\n",
      "1599/1599 [==============================] - 0s 21us/step - loss: 0.2891 - acc: 0.8737 - val_loss: 0.2755 - val_acc: 0.9000\n",
      "Epoch 43/300\n",
      "1599/1599 [==============================] - 0s 20us/step - loss: 0.2906 - acc: 0.8712 - val_loss: 0.2792 - val_acc: 0.9031\n",
      "Epoch 44/300\n",
      "1599/1599 [==============================] - 0s 21us/step - loss: 0.2923 - acc: 0.8724 - val_loss: 0.2836 - val_acc: 0.9000\n",
      "Epoch 45/300\n",
      "1599/1599 [==============================] - 0s 21us/step - loss: 0.2928 - acc: 0.8718 - val_loss: 0.2740 - val_acc: 0.9000\n",
      "Epoch 46/300\n",
      "1599/1599 [==============================] - 0s 21us/step - loss: 0.2892 - acc: 0.8768 - val_loss: 0.2616 - val_acc: 0.8938\n",
      "Epoch 47/300\n",
      "1599/1599 [==============================] - 0s 21us/step - loss: 0.2902 - acc: 0.8724 - val_loss: 0.2678 - val_acc: 0.8969\n",
      "Epoch 48/300\n",
      "1599/1599 [==============================] - 0s 21us/step - loss: 0.2945 - acc: 0.8724 - val_loss: 0.2715 - val_acc: 0.9031\n",
      "Epoch 49/300\n",
      "1599/1599 [==============================] - 0s 21us/step - loss: 0.2891 - acc: 0.8730 - val_loss: 0.2621 - val_acc: 0.8969\n",
      "Epoch 50/300\n",
      "1599/1599 [==============================] - 0s 21us/step - loss: 0.2865 - acc: 0.8806 - val_loss: 0.2613 - val_acc: 0.9000\n",
      "Epoch 51/300\n",
      "1599/1599 [==============================] - 0s 21us/step - loss: 0.2852 - acc: 0.8749 - val_loss: 0.2657 - val_acc: 0.8969\n",
      "Epoch 52/300\n",
      "1599/1599 [==============================] - 0s 21us/step - loss: 0.2850 - acc: 0.8768 - val_loss: 0.2684 - val_acc: 0.9062\n",
      "Epoch 53/300\n",
      "1599/1599 [==============================] - 0s 21us/step - loss: 0.2880 - acc: 0.8862 - val_loss: 0.2607 - val_acc: 0.9031\n",
      "Epoch 54/300\n",
      "1599/1599 [==============================] - 0s 21us/step - loss: 0.2845 - acc: 0.8762 - val_loss: 0.2600 - val_acc: 0.9063\n",
      "Epoch 55/300\n",
      "1599/1599 [==============================] - 0s 21us/step - loss: 0.2851 - acc: 0.8743 - val_loss: 0.2610 - val_acc: 0.9031\n",
      "Epoch 56/300\n",
      "1599/1599 [==============================] - 0s 21us/step - loss: 0.2870 - acc: 0.8768 - val_loss: 0.2606 - val_acc: 0.9031\n",
      "Epoch 57/300\n",
      "1599/1599 [==============================] - 0s 21us/step - loss: 0.2837 - acc: 0.8812 - val_loss: 0.2607 - val_acc: 0.9031\n",
      "Epoch 58/300\n",
      "1599/1599 [==============================] - 0s 20us/step - loss: 0.2822 - acc: 0.8749 - val_loss: 0.2789 - val_acc: 0.8969\n",
      "Epoch 59/300\n",
      "1599/1599 [==============================] - 0s 22us/step - loss: 0.2829 - acc: 0.8749 - val_loss: 0.2555 - val_acc: 0.9000\n",
      "Epoch 60/300\n"
     ]
    },
    {
     "name": "stdout",
     "output_type": "stream",
     "text": [
      "1599/1599 [==============================] - 0s 21us/step - loss: 0.2843 - acc: 0.8793 - val_loss: 0.2738 - val_acc: 0.9062\n",
      "Epoch 61/300\n",
      "1599/1599 [==============================] - 0s 22us/step - loss: 0.2800 - acc: 0.8812 - val_loss: 0.2727 - val_acc: 0.9031\n",
      "Epoch 62/300\n",
      "1599/1599 [==============================] - 0s 21us/step - loss: 0.2788 - acc: 0.8774 - val_loss: 0.2569 - val_acc: 0.9031\n",
      "Epoch 63/300\n",
      "1599/1599 [==============================] - 0s 21us/step - loss: 0.2795 - acc: 0.8806 - val_loss: 0.2676 - val_acc: 0.9031\n",
      "Epoch 64/300\n",
      "1599/1599 [==============================] - 0s 21us/step - loss: 0.2809 - acc: 0.8818 - val_loss: 0.2580 - val_acc: 0.9031\n",
      "Epoch 65/300\n",
      "1599/1599 [==============================] - 0s 21us/step - loss: 0.2780 - acc: 0.8831 - val_loss: 0.2539 - val_acc: 0.9031\n",
      "Epoch 66/300\n",
      "1599/1599 [==============================] - 0s 21us/step - loss: 0.2865 - acc: 0.8743 - val_loss: 0.3012 - val_acc: 0.8812\n",
      "Epoch 67/300\n",
      "1599/1599 [==============================] - 0s 21us/step - loss: 0.2910 - acc: 0.8712 - val_loss: 0.2547 - val_acc: 0.9094\n",
      "Epoch 68/300\n",
      "1599/1599 [==============================] - 0s 20us/step - loss: 0.2765 - acc: 0.8774 - val_loss: 0.2676 - val_acc: 0.9062\n",
      "Epoch 69/300\n",
      "1599/1599 [==============================] - 0s 21us/step - loss: 0.2850 - acc: 0.8780 - val_loss: 0.2556 - val_acc: 0.9062\n",
      "Epoch 70/300\n",
      "1599/1599 [==============================] - 0s 20us/step - loss: 0.2794 - acc: 0.8768 - val_loss: 0.2613 - val_acc: 0.9000\n",
      "Epoch 71/300\n",
      "1599/1599 [==============================] - 0s 21us/step - loss: 0.2817 - acc: 0.8780 - val_loss: 0.2703 - val_acc: 0.8969\n",
      "Epoch 72/300\n",
      "1599/1599 [==============================] - 0s 21us/step - loss: 0.2789 - acc: 0.8818 - val_loss: 0.2685 - val_acc: 0.8937\n",
      "Epoch 73/300\n",
      "1599/1599 [==============================] - 0s 21us/step - loss: 0.2812 - acc: 0.8787 - val_loss: 0.2544 - val_acc: 0.9094\n",
      "Epoch 74/300\n",
      "1599/1599 [==============================] - 0s 21us/step - loss: 0.2758 - acc: 0.8799 - val_loss: 0.2611 - val_acc: 0.9031\n",
      "Epoch 75/300\n",
      "1599/1599 [==============================] - 0s 21us/step - loss: 0.2775 - acc: 0.8824 - val_loss: 0.2573 - val_acc: 0.9094\n",
      "Epoch 76/300\n",
      "1599/1599 [==============================] - 0s 21us/step - loss: 0.2782 - acc: 0.8749 - val_loss: 0.2573 - val_acc: 0.9031\n",
      "Epoch 77/300\n",
      "1599/1599 [==============================] - 0s 22us/step - loss: 0.2760 - acc: 0.8824 - val_loss: 0.2525 - val_acc: 0.9125\n",
      "Epoch 78/300\n",
      "1599/1599 [==============================] - 0s 22us/step - loss: 0.2730 - acc: 0.8787 - val_loss: 0.2525 - val_acc: 0.9156\n",
      "Epoch 79/300\n",
      "1599/1599 [==============================] - 0s 20us/step - loss: 0.2758 - acc: 0.8837 - val_loss: 0.2499 - val_acc: 0.9063\n",
      "Epoch 80/300\n",
      "1599/1599 [==============================] - 0s 21us/step - loss: 0.2754 - acc: 0.8799 - val_loss: 0.2584 - val_acc: 0.9031\n",
      "Epoch 81/300\n",
      "1599/1599 [==============================] - 0s 21us/step - loss: 0.2737 - acc: 0.8824 - val_loss: 0.2508 - val_acc: 0.9063\n",
      "Epoch 82/300\n",
      "1599/1599 [==============================] - 0s 21us/step - loss: 0.2732 - acc: 0.8793 - val_loss: 0.2496 - val_acc: 0.9031\n",
      "Epoch 83/300\n",
      "1599/1599 [==============================] - 0s 21us/step - loss: 0.2815 - acc: 0.8856 - val_loss: 0.2562 - val_acc: 0.9031\n",
      "Epoch 84/300\n",
      "1599/1599 [==============================] - 0s 21us/step - loss: 0.2754 - acc: 0.8849 - val_loss: 0.2602 - val_acc: 0.9094\n",
      "Epoch 85/300\n",
      "1599/1599 [==============================] - 0s 21us/step - loss: 0.2719 - acc: 0.8837 - val_loss: 0.2661 - val_acc: 0.8906\n",
      "Epoch 86/300\n",
      "1599/1599 [==============================] - 0s 21us/step - loss: 0.2769 - acc: 0.8856 - val_loss: 0.2764 - val_acc: 0.8875\n",
      "Epoch 87/300\n",
      "1599/1599 [==============================] - 0s 21us/step - loss: 0.2740 - acc: 0.8812 - val_loss: 0.2614 - val_acc: 0.9000\n",
      "Epoch 88/300\n",
      "1599/1599 [==============================] - 0s 21us/step - loss: 0.2697 - acc: 0.8887 - val_loss: 0.2711 - val_acc: 0.8875\n",
      "Epoch 89/300\n",
      "1599/1599 [==============================] - 0s 21us/step - loss: 0.2765 - acc: 0.8787 - val_loss: 0.2485 - val_acc: 0.9063\n",
      "Epoch 90/300\n",
      "1599/1599 [==============================] - 0s 22us/step - loss: 0.2736 - acc: 0.8812 - val_loss: 0.2724 - val_acc: 0.8937\n",
      "Epoch 91/300\n",
      "1599/1599 [==============================] - 0s 21us/step - loss: 0.2729 - acc: 0.8862 - val_loss: 0.2589 - val_acc: 0.9062\n",
      "Epoch 92/300\n",
      "1599/1599 [==============================] - 0s 21us/step - loss: 0.2765 - acc: 0.8849 - val_loss: 0.2499 - val_acc: 0.9125\n",
      "Epoch 93/300\n",
      "1599/1599 [==============================] - 0s 22us/step - loss: 0.2792 - acc: 0.8837 - val_loss: 0.2590 - val_acc: 0.9062\n",
      "Epoch 94/300\n",
      "1599/1599 [==============================] - 0s 21us/step - loss: 0.2704 - acc: 0.8849 - val_loss: 0.2466 - val_acc: 0.9156\n",
      "Epoch 95/300\n",
      "1599/1599 [==============================] - 0s 22us/step - loss: 0.2680 - acc: 0.8874 - val_loss: 0.2601 - val_acc: 0.9000\n",
      "Epoch 96/300\n",
      "1599/1599 [==============================] - 0s 22us/step - loss: 0.2717 - acc: 0.8906 - val_loss: 0.2477 - val_acc: 0.9156\n",
      "Epoch 97/300\n",
      "1599/1599 [==============================] - 0s 21us/step - loss: 0.2733 - acc: 0.8856 - val_loss: 0.2672 - val_acc: 0.8937\n",
      "Epoch 98/300\n",
      "1599/1599 [==============================] - 0s 21us/step - loss: 0.2687 - acc: 0.8881 - val_loss: 0.2497 - val_acc: 0.9125\n",
      "Epoch 99/300\n",
      "1599/1599 [==============================] - 0s 21us/step - loss: 0.2684 - acc: 0.8856 - val_loss: 0.2525 - val_acc: 0.9063\n",
      "Epoch 100/300\n",
      "1599/1599 [==============================] - 0s 21us/step - loss: 0.2705 - acc: 0.8887 - val_loss: 0.2501 - val_acc: 0.9125\n",
      "Epoch 101/300\n",
      "1599/1599 [==============================] - 0s 20us/step - loss: 0.2710 - acc: 0.8831 - val_loss: 0.2452 - val_acc: 0.9094\n",
      "Epoch 102/300\n",
      "1599/1599 [==============================] - 0s 21us/step - loss: 0.2735 - acc: 0.8906 - val_loss: 0.2477 - val_acc: 0.9094\n",
      "Epoch 103/300\n",
      "1599/1599 [==============================] - 0s 20us/step - loss: 0.2660 - acc: 0.8899 - val_loss: 0.2481 - val_acc: 0.9062\n",
      "Epoch 104/300\n",
      "1599/1599 [==============================] - 0s 21us/step - loss: 0.2680 - acc: 0.8831 - val_loss: 0.2602 - val_acc: 0.8937\n",
      "Epoch 105/300\n",
      "1599/1599 [==============================] - 0s 20us/step - loss: 0.2685 - acc: 0.8887 - val_loss: 0.2452 - val_acc: 0.9156\n",
      "Epoch 106/300\n",
      "1599/1599 [==============================] - 0s 21us/step - loss: 0.2678 - acc: 0.8862 - val_loss: 0.2444 - val_acc: 0.9125\n",
      "Epoch 107/300\n",
      "1599/1599 [==============================] - 0s 22us/step - loss: 0.2681 - acc: 0.8856 - val_loss: 0.2825 - val_acc: 0.8875\n",
      "Epoch 108/300\n",
      "1599/1599 [==============================] - 0s 21us/step - loss: 0.2746 - acc: 0.8843 - val_loss: 0.2480 - val_acc: 0.9062\n",
      "Epoch 109/300\n",
      "1599/1599 [==============================] - 0s 21us/step - loss: 0.2712 - acc: 0.8881 - val_loss: 0.2445 - val_acc: 0.9094\n",
      "Epoch 110/300\n",
      "1599/1599 [==============================] - 0s 21us/step - loss: 0.2702 - acc: 0.8843 - val_loss: 0.2463 - val_acc: 0.9094\n",
      "Epoch 111/300\n",
      "1599/1599 [==============================] - 0s 21us/step - loss: 0.2768 - acc: 0.8787 - val_loss: 0.2465 - val_acc: 0.9125\n",
      "Epoch 112/300\n",
      "1599/1599 [==============================] - 0s 21us/step - loss: 0.2826 - acc: 0.8755 - val_loss: 0.2570 - val_acc: 0.9000\n",
      "Epoch 113/300\n",
      "1599/1599 [==============================] - 0s 20us/step - loss: 0.2697 - acc: 0.8862 - val_loss: 0.2501 - val_acc: 0.9062\n",
      "Epoch 114/300\n",
      "1599/1599 [==============================] - 0s 21us/step - loss: 0.2667 - acc: 0.8881 - val_loss: 0.2444 - val_acc: 0.9062\n",
      "Epoch 115/300\n",
      "1599/1599 [==============================] - 0s 21us/step - loss: 0.2652 - acc: 0.8912 - val_loss: 0.2542 - val_acc: 0.9125\n",
      "Epoch 116/300\n",
      "1599/1599 [==============================] - 0s 21us/step - loss: 0.2671 - acc: 0.8924 - val_loss: 0.2472 - val_acc: 0.9063\n",
      "Epoch 117/300\n",
      "1599/1599 [==============================] - 0s 23us/step - loss: 0.2687 - acc: 0.8862 - val_loss: 0.2495 - val_acc: 0.9094\n",
      "Epoch 118/300\n",
      "1599/1599 [==============================] - 0s 21us/step - loss: 0.2647 - acc: 0.8906 - val_loss: 0.2637 - val_acc: 0.8875\n",
      "Epoch 119/300\n",
      "1599/1599 [==============================] - 0s 20us/step - loss: 0.2653 - acc: 0.8874 - val_loss: 0.2541 - val_acc: 0.8937\n"
     ]
    },
    {
     "name": "stdout",
     "output_type": "stream",
     "text": [
      "Epoch 120/300\n",
      "1599/1599 [==============================] - 0s 21us/step - loss: 0.2650 - acc: 0.8912 - val_loss: 0.2532 - val_acc: 0.9063\n",
      "Epoch 121/300\n",
      "1599/1599 [==============================] - 0s 21us/step - loss: 0.2634 - acc: 0.8874 - val_loss: 0.2667 - val_acc: 0.8969\n",
      "Epoch 122/300\n",
      "1599/1599 [==============================] - 0s 21us/step - loss: 0.2653 - acc: 0.8874 - val_loss: 0.2442 - val_acc: 0.9125\n",
      "Epoch 123/300\n",
      "1599/1599 [==============================] - 0s 21us/step - loss: 0.2689 - acc: 0.8856 - val_loss: 0.2674 - val_acc: 0.8937\n",
      "Epoch 124/300\n",
      "1599/1599 [==============================] - 0s 21us/step - loss: 0.2710 - acc: 0.8793 - val_loss: 0.2646 - val_acc: 0.8937\n",
      "Epoch 125/300\n",
      "1599/1599 [==============================] - 0s 21us/step - loss: 0.2627 - acc: 0.8937 - val_loss: 0.2656 - val_acc: 0.8906\n",
      "Epoch 126/300\n",
      "1599/1599 [==============================] - 0s 21us/step - loss: 0.2672 - acc: 0.8887 - val_loss: 0.2449 - val_acc: 0.9094\n",
      "Epoch 127/300\n",
      "1599/1599 [==============================] - 0s 22us/step - loss: 0.2655 - acc: 0.8856 - val_loss: 0.2446 - val_acc: 0.9094\n",
      "Epoch 128/300\n",
      "1599/1599 [==============================] - 0s 21us/step - loss: 0.2630 - acc: 0.8918 - val_loss: 0.2530 - val_acc: 0.8906\n",
      "Epoch 129/300\n",
      "1599/1599 [==============================] - 0s 21us/step - loss: 0.2623 - acc: 0.8924 - val_loss: 0.2495 - val_acc: 0.9094\n",
      "Epoch 130/300\n",
      "1599/1599 [==============================] - 0s 21us/step - loss: 0.2625 - acc: 0.8943 - val_loss: 0.2453 - val_acc: 0.9094\n",
      "Epoch 131/300\n",
      "1599/1599 [==============================] - 0s 22us/step - loss: 0.2621 - acc: 0.8893 - val_loss: 0.2442 - val_acc: 0.9094\n",
      "Epoch 132/300\n",
      "1599/1599 [==============================] - 0s 20us/step - loss: 0.2621 - acc: 0.8906 - val_loss: 0.2426 - val_acc: 0.9156\n",
      "Epoch 133/300\n",
      "1599/1599 [==============================] - 0s 21us/step - loss: 0.2616 - acc: 0.8906 - val_loss: 0.2400 - val_acc: 0.9094\n",
      "Epoch 134/300\n",
      "1599/1599 [==============================] - 0s 22us/step - loss: 0.2765 - acc: 0.8831 - val_loss: 0.2508 - val_acc: 0.9094\n",
      "Epoch 135/300\n",
      "1599/1599 [==============================] - 0s 21us/step - loss: 0.2651 - acc: 0.8918 - val_loss: 0.2425 - val_acc: 0.9094\n",
      "Epoch 136/300\n",
      "1599/1599 [==============================] - 0s 23us/step - loss: 0.2602 - acc: 0.8956 - val_loss: 0.2454 - val_acc: 0.9094\n",
      "Epoch 137/300\n",
      "1599/1599 [==============================] - 0s 21us/step - loss: 0.2626 - acc: 0.8912 - val_loss: 0.2422 - val_acc: 0.9125\n",
      "Epoch 138/300\n",
      "1599/1599 [==============================] - 0s 22us/step - loss: 0.2656 - acc: 0.8899 - val_loss: 0.2724 - val_acc: 0.8906\n",
      "Epoch 139/300\n",
      "1599/1599 [==============================] - 0s 21us/step - loss: 0.2675 - acc: 0.8831 - val_loss: 0.2408 - val_acc: 0.9094\n",
      "Epoch 140/300\n",
      "1599/1599 [==============================] - 0s 21us/step - loss: 0.2634 - acc: 0.8943 - val_loss: 0.2591 - val_acc: 0.8969\n",
      "Epoch 141/300\n",
      "1599/1599 [==============================] - 0s 21us/step - loss: 0.2616 - acc: 0.8962 - val_loss: 0.2472 - val_acc: 0.9125\n",
      "Epoch 142/300\n",
      "1599/1599 [==============================] - 0s 21us/step - loss: 0.2605 - acc: 0.8931 - val_loss: 0.2482 - val_acc: 0.9063\n",
      "Epoch 143/300\n",
      "1599/1599 [==============================] - 0s 21us/step - loss: 0.2597 - acc: 0.8924 - val_loss: 0.2463 - val_acc: 0.9125\n",
      "Epoch 144/300\n",
      "1599/1599 [==============================] - 0s 21us/step - loss: 0.2666 - acc: 0.8824 - val_loss: 0.2400 - val_acc: 0.9125\n",
      "Epoch 145/300\n",
      "1599/1599 [==============================] - 0s 21us/step - loss: 0.2646 - acc: 0.8893 - val_loss: 0.2433 - val_acc: 0.9094\n",
      "Epoch 146/300\n",
      "1599/1599 [==============================] - 0s 22us/step - loss: 0.2635 - acc: 0.8887 - val_loss: 0.2422 - val_acc: 0.9125\n",
      "Epoch 147/300\n",
      "1599/1599 [==============================] - 0s 22us/step - loss: 0.2616 - acc: 0.8874 - val_loss: 0.2440 - val_acc: 0.9062\n",
      "Epoch 148/300\n",
      "1599/1599 [==============================] - 0s 21us/step - loss: 0.2650 - acc: 0.8874 - val_loss: 0.2496 - val_acc: 0.9094\n",
      "Epoch 149/300\n",
      "1599/1599 [==============================] - 0s 21us/step - loss: 0.2804 - acc: 0.8812 - val_loss: 0.2395 - val_acc: 0.9125\n",
      "Epoch 150/300\n",
      "1599/1599 [==============================] - 0s 21us/step - loss: 0.2687 - acc: 0.8874 - val_loss: 0.2413 - val_acc: 0.9094\n",
      "Epoch 151/300\n",
      "1599/1599 [==============================] - 0s 22us/step - loss: 0.2600 - acc: 0.8931 - val_loss: 0.2406 - val_acc: 0.9125\n",
      "Epoch 152/300\n",
      "1599/1599 [==============================] - 0s 21us/step - loss: 0.2668 - acc: 0.8862 - val_loss: 0.2480 - val_acc: 0.9062\n",
      "Epoch 153/300\n",
      "1599/1599 [==============================] - 0s 21us/step - loss: 0.2636 - acc: 0.8937 - val_loss: 0.2412 - val_acc: 0.9125\n",
      "Epoch 154/300\n",
      "1599/1599 [==============================] - 0s 21us/step - loss: 0.2615 - acc: 0.8899 - val_loss: 0.2703 - val_acc: 0.8906\n",
      "Epoch 155/300\n",
      "1599/1599 [==============================] - 0s 21us/step - loss: 0.2659 - acc: 0.8868 - val_loss: 0.2374 - val_acc: 0.9094\n",
      "Epoch 156/300\n",
      "1599/1599 [==============================] - 0s 21us/step - loss: 0.2621 - acc: 0.8862 - val_loss: 0.2398 - val_acc: 0.9156\n",
      "Epoch 157/300\n",
      "1599/1599 [==============================] - 0s 23us/step - loss: 0.2618 - acc: 0.8899 - val_loss: 0.2481 - val_acc: 0.8969\n",
      "Epoch 158/300\n",
      "1599/1599 [==============================] - 0s 21us/step - loss: 0.2582 - acc: 0.8924 - val_loss: 0.2400 - val_acc: 0.9156\n",
      "Epoch 159/300\n",
      "1599/1599 [==============================] - 0s 21us/step - loss: 0.2635 - acc: 0.8887 - val_loss: 0.2449 - val_acc: 0.9094\n",
      "Epoch 160/300\n",
      "1599/1599 [==============================] - 0s 21us/step - loss: 0.2606 - acc: 0.8943 - val_loss: 0.2388 - val_acc: 0.9094\n",
      "Epoch 161/300\n",
      "1599/1599 [==============================] - 0s 20us/step - loss: 0.2614 - acc: 0.8912 - val_loss: 0.3554 - val_acc: 0.8187\n",
      "Epoch 162/300\n",
      "1599/1599 [==============================] - 0s 21us/step - loss: 0.2692 - acc: 0.8843 - val_loss: 0.2451 - val_acc: 0.9031\n",
      "Epoch 163/300\n",
      "1599/1599 [==============================] - 0s 21us/step - loss: 0.2595 - acc: 0.8906 - val_loss: 0.2548 - val_acc: 0.8969\n",
      "Epoch 164/300\n",
      "1599/1599 [==============================] - 0s 21us/step - loss: 0.2651 - acc: 0.8862 - val_loss: 0.2886 - val_acc: 0.8719\n",
      "Epoch 165/300\n",
      "1599/1599 [==============================] - 0s 21us/step - loss: 0.2608 - acc: 0.8899 - val_loss: 0.2609 - val_acc: 0.8937\n",
      "Epoch 166/300\n",
      "1599/1599 [==============================] - 0s 21us/step - loss: 0.2620 - acc: 0.8899 - val_loss: 0.2563 - val_acc: 0.8938\n",
      "Epoch 167/300\n",
      "1599/1599 [==============================] - 0s 21us/step - loss: 0.2594 - acc: 0.8918 - val_loss: 0.2475 - val_acc: 0.9000\n",
      "Epoch 168/300\n",
      "1599/1599 [==============================] - 0s 23us/step - loss: 0.2584 - acc: 0.8912 - val_loss: 0.2536 - val_acc: 0.9031\n",
      "Epoch 169/300\n",
      "1599/1599 [==============================] - 0s 21us/step - loss: 0.2565 - acc: 0.8962 - val_loss: 0.2422 - val_acc: 0.9094\n",
      "Epoch 170/300\n",
      "1599/1599 [==============================] - 0s 21us/step - loss: 0.2582 - acc: 0.8924 - val_loss: 0.2493 - val_acc: 0.9125\n",
      "Epoch 171/300\n",
      "1599/1599 [==============================] - 0s 21us/step - loss: 0.2600 - acc: 0.8924 - val_loss: 0.2366 - val_acc: 0.9094\n",
      "Epoch 172/300\n",
      "1599/1599 [==============================] - 0s 21us/step - loss: 0.2611 - acc: 0.8887 - val_loss: 0.2403 - val_acc: 0.9125\n",
      "Epoch 173/300\n",
      "1599/1599 [==============================] - 0s 22us/step - loss: 0.2628 - acc: 0.8868 - val_loss: 0.2405 - val_acc: 0.9125\n",
      "Epoch 174/300\n",
      "1599/1599 [==============================] - 0s 20us/step - loss: 0.2634 - acc: 0.8862 - val_loss: 0.2411 - val_acc: 0.9125\n",
      "Epoch 175/300\n",
      "1599/1599 [==============================] - 0s 21us/step - loss: 0.2640 - acc: 0.8899 - val_loss: 0.2568 - val_acc: 0.8969\n",
      "Epoch 176/300\n",
      "1599/1599 [==============================] - 0s 21us/step - loss: 0.2604 - acc: 0.8893 - val_loss: 0.2458 - val_acc: 0.9125\n",
      "Epoch 177/300\n",
      "1599/1599 [==============================] - 0s 21us/step - loss: 0.2584 - acc: 0.8899 - val_loss: 0.2410 - val_acc: 0.9125\n",
      "Epoch 178/300\n",
      "1599/1599 [==============================] - 0s 21us/step - loss: 0.2570 - acc: 0.8968 - val_loss: 0.2456 - val_acc: 0.8937\n",
      "Epoch 179/300\n"
     ]
    },
    {
     "name": "stdout",
     "output_type": "stream",
     "text": [
      "1599/1599 [==============================] - 0s 21us/step - loss: 0.2606 - acc: 0.8931 - val_loss: 0.2597 - val_acc: 0.8937\n",
      "Epoch 180/300\n",
      "1599/1599 [==============================] - 0s 21us/step - loss: 0.2599 - acc: 0.8887 - val_loss: 0.2416 - val_acc: 0.9156\n",
      "Epoch 181/300\n",
      "1599/1599 [==============================] - 0s 22us/step - loss: 0.2587 - acc: 0.8881 - val_loss: 0.2387 - val_acc: 0.9156\n",
      "Epoch 182/300\n",
      "1599/1599 [==============================] - 0s 21us/step - loss: 0.2641 - acc: 0.8862 - val_loss: 0.2591 - val_acc: 0.9125\n",
      "Epoch 183/300\n",
      "1599/1599 [==============================] - 0s 21us/step - loss: 0.2628 - acc: 0.8862 - val_loss: 0.2475 - val_acc: 0.9000\n",
      "Epoch 184/300\n",
      "1599/1599 [==============================] - 0s 22us/step - loss: 0.2567 - acc: 0.8962 - val_loss: 0.2350 - val_acc: 0.9125\n",
      "Epoch 185/300\n",
      "1599/1599 [==============================] - 0s 21us/step - loss: 0.2537 - acc: 0.8887 - val_loss: 0.2379 - val_acc: 0.9062\n",
      "Epoch 186/300\n",
      "1599/1599 [==============================] - 0s 21us/step - loss: 0.2637 - acc: 0.8856 - val_loss: 0.2491 - val_acc: 0.9000\n",
      "Epoch 187/300\n",
      "1599/1599 [==============================] - 0s 22us/step - loss: 0.2547 - acc: 0.8943 - val_loss: 0.2364 - val_acc: 0.9125\n",
      "Epoch 188/300\n",
      "1599/1599 [==============================] - 0s 21us/step - loss: 0.2587 - acc: 0.8937 - val_loss: 0.2357 - val_acc: 0.9156\n",
      "Epoch 189/300\n",
      "1599/1599 [==============================] - 0s 21us/step - loss: 0.2576 - acc: 0.8862 - val_loss: 0.2465 - val_acc: 0.9031\n",
      "Epoch 190/300\n",
      "1599/1599 [==============================] - 0s 21us/step - loss: 0.2558 - acc: 0.8937 - val_loss: 0.2364 - val_acc: 0.9094\n",
      "Epoch 191/300\n",
      "1599/1599 [==============================] - 0s 21us/step - loss: 0.2655 - acc: 0.8843 - val_loss: 0.2354 - val_acc: 0.9062\n",
      "Epoch 192/300\n",
      "1599/1599 [==============================] - 0s 21us/step - loss: 0.2665 - acc: 0.8874 - val_loss: 0.2369 - val_acc: 0.9125\n",
      "Epoch 193/300\n",
      "1599/1599 [==============================] - 0s 21us/step - loss: 0.2605 - acc: 0.8899 - val_loss: 0.2356 - val_acc: 0.9125\n",
      "Epoch 194/300\n",
      "1599/1599 [==============================] - 0s 21us/step - loss: 0.2590 - acc: 0.8893 - val_loss: 0.2409 - val_acc: 0.9125\n",
      "Epoch 195/300\n",
      "1599/1599 [==============================] - 0s 21us/step - loss: 0.2568 - acc: 0.8906 - val_loss: 0.2481 - val_acc: 0.9000\n",
      "Epoch 196/300\n",
      "1599/1599 [==============================] - 0s 21us/step - loss: 0.2643 - acc: 0.8868 - val_loss: 0.2356 - val_acc: 0.9094\n",
      "Epoch 197/300\n",
      "1599/1599 [==============================] - 0s 22us/step - loss: 0.2565 - acc: 0.8931 - val_loss: 0.2486 - val_acc: 0.9094\n",
      "Epoch 198/300\n",
      "1599/1599 [==============================] - 0s 21us/step - loss: 0.2747 - acc: 0.8862 - val_loss: 0.2424 - val_acc: 0.9031\n",
      "Epoch 199/300\n",
      "1599/1599 [==============================] - 0s 21us/step - loss: 0.2576 - acc: 0.8943 - val_loss: 0.2531 - val_acc: 0.8969\n",
      "Epoch 200/300\n",
      "1599/1599 [==============================] - 0s 21us/step - loss: 0.2564 - acc: 0.8918 - val_loss: 0.2381 - val_acc: 0.9156\n",
      "Epoch 201/300\n",
      "1599/1599 [==============================] - 0s 21us/step - loss: 0.2549 - acc: 0.8943 - val_loss: 0.2340 - val_acc: 0.9094\n",
      "Epoch 202/300\n",
      "1599/1599 [==============================] - 0s 20us/step - loss: 0.2572 - acc: 0.8924 - val_loss: 0.2407 - val_acc: 0.9094\n",
      "Epoch 203/300\n",
      "1599/1599 [==============================] - 0s 21us/step - loss: 0.2551 - acc: 0.8949 - val_loss: 0.2360 - val_acc: 0.9156\n",
      "Epoch 204/300\n",
      "1599/1599 [==============================] - 0s 22us/step - loss: 0.2535 - acc: 0.8937 - val_loss: 0.2450 - val_acc: 0.9000\n",
      "Epoch 205/300\n",
      "1599/1599 [==============================] - 0s 21us/step - loss: 0.2561 - acc: 0.8899 - val_loss: 0.2352 - val_acc: 0.9156\n",
      "Epoch 206/300\n",
      "1599/1599 [==============================] - 0s 21us/step - loss: 0.2575 - acc: 0.8956 - val_loss: 0.2368 - val_acc: 0.9156\n",
      "Epoch 207/300\n",
      "1599/1599 [==============================] - 0s 21us/step - loss: 0.2585 - acc: 0.8899 - val_loss: 0.2460 - val_acc: 0.9062\n",
      "Epoch 208/300\n",
      "1599/1599 [==============================] - 0s 21us/step - loss: 0.2581 - acc: 0.8931 - val_loss: 0.2407 - val_acc: 0.9094\n",
      "Epoch 209/300\n",
      "1599/1599 [==============================] - 0s 22us/step - loss: 0.2622 - acc: 0.8918 - val_loss: 0.3170 - val_acc: 0.8406\n",
      "Epoch 210/300\n",
      "1599/1599 [==============================] - 0s 20us/step - loss: 0.2646 - acc: 0.8868 - val_loss: 0.2369 - val_acc: 0.9062\n",
      "Epoch 211/300\n",
      "1599/1599 [==============================] - 0s 21us/step - loss: 0.2514 - acc: 0.8906 - val_loss: 0.2402 - val_acc: 0.9094\n",
      "Epoch 212/300\n",
      "1599/1599 [==============================] - 0s 21us/step - loss: 0.2619 - acc: 0.8868 - val_loss: 0.2603 - val_acc: 0.8875\n",
      "Epoch 213/300\n",
      "1599/1599 [==============================] - 0s 21us/step - loss: 0.2618 - acc: 0.8862 - val_loss: 0.2598 - val_acc: 0.8937\n",
      "Epoch 214/300\n",
      "1599/1599 [==============================] - 0s 21us/step - loss: 0.2597 - acc: 0.8893 - val_loss: 0.2413 - val_acc: 0.9094\n",
      "Epoch 215/300\n",
      "1599/1599 [==============================] - 0s 21us/step - loss: 0.2560 - acc: 0.8924 - val_loss: 0.2455 - val_acc: 0.9000\n",
      "Epoch 216/300\n",
      "1599/1599 [==============================] - 0s 21us/step - loss: 0.2648 - acc: 0.8843 - val_loss: 0.2507 - val_acc: 0.8937\n",
      "Epoch 217/300\n",
      "1599/1599 [==============================] - 0s 21us/step - loss: 0.2724 - acc: 0.8862 - val_loss: 0.2536 - val_acc: 0.8937\n",
      "Epoch 218/300\n",
      "1599/1599 [==============================] - 0s 22us/step - loss: 0.2529 - acc: 0.8918 - val_loss: 0.2717 - val_acc: 0.8844\n",
      "Epoch 219/300\n",
      "1599/1599 [==============================] - 0s 22us/step - loss: 0.2668 - acc: 0.8881 - val_loss: 0.2454 - val_acc: 0.9000\n",
      "Epoch 220/300\n",
      "1599/1599 [==============================] - 0s 22us/step - loss: 0.2559 - acc: 0.8924 - val_loss: 0.2400 - val_acc: 0.9125\n",
      "Epoch 221/300\n",
      "1599/1599 [==============================] - 0s 22us/step - loss: 0.2523 - acc: 0.8949 - val_loss: 0.2453 - val_acc: 0.9000\n",
      "Epoch 222/300\n",
      "1599/1599 [==============================] - 0s 21us/step - loss: 0.2539 - acc: 0.8943 - val_loss: 0.2375 - val_acc: 0.9156\n",
      "Epoch 223/300\n",
      "1599/1599 [==============================] - 0s 21us/step - loss: 0.2562 - acc: 0.8912 - val_loss: 0.2334 - val_acc: 0.9156\n",
      "Epoch 224/300\n",
      "1599/1599 [==============================] - 0s 21us/step - loss: 0.2627 - acc: 0.8874 - val_loss: 0.2449 - val_acc: 0.9062\n",
      "Epoch 225/300\n",
      "1599/1599 [==============================] - 0s 21us/step - loss: 0.2635 - acc: 0.8912 - val_loss: 0.2469 - val_acc: 0.8938\n",
      "Epoch 226/300\n",
      "1599/1599 [==============================] - 0s 20us/step - loss: 0.2564 - acc: 0.8924 - val_loss: 0.2410 - val_acc: 0.9062\n",
      "Epoch 227/300\n",
      "1599/1599 [==============================] - 0s 21us/step - loss: 0.2516 - acc: 0.8943 - val_loss: 0.2745 - val_acc: 0.8750\n",
      "Epoch 228/300\n",
      "1599/1599 [==============================] - 0s 21us/step - loss: 0.2626 - acc: 0.8893 - val_loss: 0.2506 - val_acc: 0.8969\n",
      "Epoch 229/300\n",
      "1599/1599 [==============================] - 0s 21us/step - loss: 0.2676 - acc: 0.8831 - val_loss: 0.2347 - val_acc: 0.9156\n",
      "Epoch 230/300\n",
      "1599/1599 [==============================] - 0s 21us/step - loss: 0.2603 - acc: 0.8906 - val_loss: 0.2371 - val_acc: 0.9094\n",
      "Epoch 231/300\n",
      "1599/1599 [==============================] - 0s 21us/step - loss: 0.2601 - acc: 0.8843 - val_loss: 0.2366 - val_acc: 0.9156\n",
      "Epoch 232/300\n",
      "1599/1599 [==============================] - 0s 21us/step - loss: 0.2652 - acc: 0.8831 - val_loss: 0.2514 - val_acc: 0.8938\n",
      "Epoch 233/300\n",
      "1599/1599 [==============================] - 0s 21us/step - loss: 0.2543 - acc: 0.8949 - val_loss: 0.2342 - val_acc: 0.9125\n",
      "Epoch 234/300\n",
      "1599/1599 [==============================] - 0s 21us/step - loss: 0.2543 - acc: 0.8849 - val_loss: 0.2439 - val_acc: 0.9000\n",
      "Epoch 235/300\n",
      "1599/1599 [==============================] - 0s 21us/step - loss: 0.2561 - acc: 0.8924 - val_loss: 0.2803 - val_acc: 0.8687\n",
      "Epoch 236/300\n",
      "1599/1599 [==============================] - 0s 22us/step - loss: 0.2550 - acc: 0.8868 - val_loss: 0.2355 - val_acc: 0.9156\n",
      "Epoch 237/300\n",
      "1599/1599 [==============================] - 0s 21us/step - loss: 0.2534 - acc: 0.8906 - val_loss: 0.2399 - val_acc: 0.9125\n",
      "Epoch 238/300\n"
     ]
    },
    {
     "name": "stdout",
     "output_type": "stream",
     "text": [
      "1599/1599 [==============================] - 0s 22us/step - loss: 0.2599 - acc: 0.8899 - val_loss: 0.2447 - val_acc: 0.9062\n",
      "Epoch 239/300\n",
      "1599/1599 [==============================] - 0s 22us/step - loss: 0.2585 - acc: 0.8918 - val_loss: 0.2332 - val_acc: 0.9188\n",
      "Epoch 240/300\n",
      "1599/1599 [==============================] - 0s 20us/step - loss: 0.2539 - acc: 0.8943 - val_loss: 0.2540 - val_acc: 0.8938\n",
      "Epoch 241/300\n",
      "1599/1599 [==============================] - 0s 21us/step - loss: 0.2538 - acc: 0.8918 - val_loss: 0.2379 - val_acc: 0.9062\n",
      "Epoch 242/300\n",
      "1599/1599 [==============================] - 0s 22us/step - loss: 0.2509 - acc: 0.8943 - val_loss: 0.2443 - val_acc: 0.8938\n",
      "Epoch 243/300\n",
      "1599/1599 [==============================] - 0s 21us/step - loss: 0.2535 - acc: 0.8893 - val_loss: 0.2330 - val_acc: 0.9156\n",
      "Epoch 244/300\n",
      "1599/1599 [==============================] - 0s 19us/step - loss: 0.2615 - acc: 0.8843 - val_loss: 0.2366 - val_acc: 0.9094\n",
      "Epoch 245/300\n",
      "1599/1599 [==============================] - 0s 19us/step - loss: 0.2550 - acc: 0.8874 - val_loss: 0.2967 - val_acc: 0.8687\n",
      "Epoch 246/300\n",
      "1599/1599 [==============================] - 0s 22us/step - loss: 0.2538 - acc: 0.8881 - val_loss: 0.2387 - val_acc: 0.9094\n",
      "Epoch 247/300\n",
      "1599/1599 [==============================] - 0s 21us/step - loss: 0.2558 - acc: 0.8924 - val_loss: 0.2351 - val_acc: 0.9156\n",
      "Epoch 248/300\n",
      "1599/1599 [==============================] - 0s 21us/step - loss: 0.2660 - acc: 0.8824 - val_loss: 0.2441 - val_acc: 0.8969\n",
      "Epoch 249/300\n",
      "1599/1599 [==============================] - 0s 21us/step - loss: 0.2526 - acc: 0.8874 - val_loss: 0.2348 - val_acc: 0.9125\n",
      "Epoch 250/300\n",
      "1599/1599 [==============================] - 0s 22us/step - loss: 0.2563 - acc: 0.8918 - val_loss: 0.2722 - val_acc: 0.8781\n",
      "Epoch 251/300\n",
      "1599/1599 [==============================] - 0s 21us/step - loss: 0.2545 - acc: 0.8906 - val_loss: 0.2674 - val_acc: 0.8875\n",
      "Epoch 252/300\n",
      "1599/1599 [==============================] - 0s 21us/step - loss: 0.2557 - acc: 0.8906 - val_loss: 0.2471 - val_acc: 0.8938\n",
      "Epoch 253/300\n",
      "1599/1599 [==============================] - 0s 22us/step - loss: 0.2509 - acc: 0.8962 - val_loss: 0.2402 - val_acc: 0.9094\n",
      "Epoch 254/300\n",
      "1599/1599 [==============================] - 0s 23us/step - loss: 0.2553 - acc: 0.8943 - val_loss: 0.2556 - val_acc: 0.8906\n",
      "Epoch 255/300\n",
      "1599/1599 [==============================] - 0s 21us/step - loss: 0.2513 - acc: 0.8918 - val_loss: 0.2327 - val_acc: 0.9094\n",
      "Epoch 256/300\n",
      "1599/1599 [==============================] - 0s 21us/step - loss: 0.2494 - acc: 0.8974 - val_loss: 0.2364 - val_acc: 0.9125\n",
      "Epoch 257/300\n",
      "1599/1599 [==============================] - 0s 21us/step - loss: 0.2572 - acc: 0.8893 - val_loss: 0.2327 - val_acc: 0.9156\n",
      "Epoch 258/300\n",
      "1599/1599 [==============================] - 0s 21us/step - loss: 0.2576 - acc: 0.8856 - val_loss: 0.2353 - val_acc: 0.9156\n",
      "Epoch 259/300\n",
      "1599/1599 [==============================] - 0s 21us/step - loss: 0.2601 - acc: 0.8906 - val_loss: 0.2726 - val_acc: 0.8844\n",
      "Epoch 260/300\n",
      "1599/1599 [==============================] - 0s 21us/step - loss: 0.2533 - acc: 0.8937 - val_loss: 0.2342 - val_acc: 0.9125\n",
      "Epoch 261/300\n",
      "1599/1599 [==============================] - 0s 21us/step - loss: 0.2538 - acc: 0.8937 - val_loss: 0.2799 - val_acc: 0.8719\n",
      "Epoch 262/300\n",
      "1599/1599 [==============================] - 0s 21us/step - loss: 0.2575 - acc: 0.8887 - val_loss: 0.2400 - val_acc: 0.9094\n",
      "Epoch 263/300\n",
      "1599/1599 [==============================] - 0s 21us/step - loss: 0.2566 - acc: 0.8931 - val_loss: 0.2439 - val_acc: 0.8969\n",
      "Epoch 264/300\n",
      "1599/1599 [==============================] - 0s 21us/step - loss: 0.2630 - acc: 0.8862 - val_loss: 0.2314 - val_acc: 0.9094\n",
      "Epoch 265/300\n",
      "1599/1599 [==============================] - 0s 21us/step - loss: 0.2562 - acc: 0.8924 - val_loss: 0.2351 - val_acc: 0.9125\n",
      "Epoch 266/300\n",
      "1599/1599 [==============================] - 0s 21us/step - loss: 0.2524 - acc: 0.8899 - val_loss: 0.2382 - val_acc: 0.9094\n",
      "Epoch 267/300\n",
      "1599/1599 [==============================] - 0s 21us/step - loss: 0.2525 - acc: 0.8924 - val_loss: 0.2393 - val_acc: 0.9062\n",
      "Epoch 268/300\n",
      "1599/1599 [==============================] - 0s 21us/step - loss: 0.2512 - acc: 0.8918 - val_loss: 0.2325 - val_acc: 0.9156\n",
      "Epoch 269/300\n",
      "1599/1599 [==============================] - 0s 21us/step - loss: 0.2528 - acc: 0.8943 - val_loss: 0.2372 - val_acc: 0.9094\n",
      "Epoch 270/300\n",
      "1599/1599 [==============================] - 0s 21us/step - loss: 0.2554 - acc: 0.8931 - val_loss: 0.2421 - val_acc: 0.9031\n",
      "Epoch 271/300\n",
      "1599/1599 [==============================] - 0s 23us/step - loss: 0.2565 - acc: 0.8906 - val_loss: 0.2674 - val_acc: 0.8781\n",
      "Epoch 272/300\n",
      "1599/1599 [==============================] - 0s 21us/step - loss: 0.2590 - acc: 0.8956 - val_loss: 0.2491 - val_acc: 0.8938\n",
      "Epoch 273/300\n",
      "1599/1599 [==============================] - 0s 21us/step - loss: 0.2531 - acc: 0.8943 - val_loss: 0.2770 - val_acc: 0.8719\n",
      "Epoch 274/300\n",
      "1599/1599 [==============================] - 0s 22us/step - loss: 0.2561 - acc: 0.8943 - val_loss: 0.2389 - val_acc: 0.9031\n",
      "Epoch 275/300\n",
      "1599/1599 [==============================] - 0s 21us/step - loss: 0.2592 - acc: 0.8856 - val_loss: 0.2427 - val_acc: 0.9000\n",
      "Epoch 276/300\n",
      "1599/1599 [==============================] - 0s 21us/step - loss: 0.2512 - acc: 0.8937 - val_loss: 0.2331 - val_acc: 0.9094\n",
      "Epoch 277/300\n",
      "1599/1599 [==============================] - 0s 21us/step - loss: 0.2582 - acc: 0.8881 - val_loss: 0.2379 - val_acc: 0.9062\n",
      "Epoch 278/300\n",
      "1599/1599 [==============================] - 0s 20us/step - loss: 0.2543 - acc: 0.8937 - val_loss: 0.2399 - val_acc: 0.9094\n",
      "Epoch 279/300\n",
      "1599/1599 [==============================] - 0s 20us/step - loss: 0.2553 - acc: 0.8893 - val_loss: 0.2333 - val_acc: 0.9156\n",
      "Epoch 280/300\n",
      "1599/1599 [==============================] - 0s 21us/step - loss: 0.2513 - acc: 0.8937 - val_loss: 0.2585 - val_acc: 0.8937\n",
      "Epoch 281/300\n",
      "1599/1599 [==============================] - 0s 21us/step - loss: 0.2522 - acc: 0.8906 - val_loss: 0.2303 - val_acc: 0.9094\n",
      "Epoch 282/300\n",
      "1599/1599 [==============================] - 0s 21us/step - loss: 0.2492 - acc: 0.8943 - val_loss: 0.2341 - val_acc: 0.9094\n",
      "Epoch 283/300\n",
      "1599/1599 [==============================] - 0s 21us/step - loss: 0.2488 - acc: 0.8943 - val_loss: 0.2368 - val_acc: 0.9125\n",
      "Epoch 284/300\n",
      "1599/1599 [==============================] - 0s 21us/step - loss: 0.2485 - acc: 0.8968 - val_loss: 0.2315 - val_acc: 0.9188\n",
      "Epoch 285/300\n",
      "1599/1599 [==============================] - 0s 22us/step - loss: 0.2526 - acc: 0.8887 - val_loss: 0.2316 - val_acc: 0.9125\n",
      "Epoch 286/300\n",
      "1599/1599 [==============================] - 0s 21us/step - loss: 0.2583 - acc: 0.8924 - val_loss: 0.2435 - val_acc: 0.9063\n",
      "Epoch 287/300\n",
      "1599/1599 [==============================] - 0s 21us/step - loss: 0.2496 - acc: 0.8974 - val_loss: 0.2328 - val_acc: 0.9188\n",
      "Epoch 288/300\n",
      "1599/1599 [==============================] - 0s 21us/step - loss: 0.2555 - acc: 0.8881 - val_loss: 0.2308 - val_acc: 0.9156\n",
      "Epoch 289/300\n",
      "1599/1599 [==============================] - 0s 21us/step - loss: 0.2513 - acc: 0.8968 - val_loss: 0.2348 - val_acc: 0.9188\n",
      "Epoch 290/300\n",
      "1599/1599 [==============================] - 0s 22us/step - loss: 0.2503 - acc: 0.8918 - val_loss: 0.2604 - val_acc: 0.8906\n",
      "Epoch 291/300\n",
      "1599/1599 [==============================] - 0s 21us/step - loss: 0.2550 - acc: 0.8899 - val_loss: 0.2416 - val_acc: 0.9031\n",
      "Epoch 292/300\n",
      "1599/1599 [==============================] - 0s 21us/step - loss: 0.2514 - acc: 0.8974 - val_loss: 0.2343 - val_acc: 0.9094\n",
      "Epoch 293/300\n",
      "1599/1599 [==============================] - 0s 22us/step - loss: 0.2501 - acc: 0.8962 - val_loss: 0.2327 - val_acc: 0.9094\n",
      "Epoch 294/300\n",
      "1599/1599 [==============================] - 0s 21us/step - loss: 0.2494 - acc: 0.8962 - val_loss: 0.2480 - val_acc: 0.8906\n",
      "Epoch 295/300\n",
      "1599/1599 [==============================] - 0s 21us/step - loss: 0.2535 - acc: 0.8912 - val_loss: 0.2314 - val_acc: 0.9156\n",
      "Epoch 296/300\n",
      "1599/1599 [==============================] - 0s 21us/step - loss: 0.2574 - acc: 0.8887 - val_loss: 0.2703 - val_acc: 0.8625\n",
      "Epoch 297/300\n"
     ]
    },
    {
     "name": "stdout",
     "output_type": "stream",
     "text": [
      "1599/1599 [==============================] - 0s 21us/step - loss: 0.2508 - acc: 0.8949 - val_loss: 0.2283 - val_acc: 0.9188\n",
      "Epoch 298/300\n",
      "1599/1599 [==============================] - 0s 23us/step - loss: 0.2533 - acc: 0.8906 - val_loss: 0.2312 - val_acc: 0.9188\n",
      "Epoch 299/300\n",
      "1599/1599 [==============================] - 0s 22us/step - loss: 0.2479 - acc: 0.8974 - val_loss: 0.2356 - val_acc: 0.9094\n",
      "Epoch 300/300\n",
      "1599/1599 [==============================] - 0s 21us/step - loss: 0.2501 - acc: 0.8931 - val_loss: 0.2786 - val_acc: 0.8687\n",
      "1599/1599 [==============================] - 0s 18us/step\n",
      "\n",
      " Accuracy: 0.8868\n"
     ]
    }
   ],
   "source": [
    "from keras.models import Sequential\n",
    "from keras.layers import Dense\n",
    "import tensorflow as tf\n",
    "model = Sequential()\n",
    "model.add(Dense(40, input_dim=11, activation='relu')) # 11개의 특성이 들어간다\n",
    "model.add(Dense(1, activation='sigmoid'))\n",
    "\n",
    "# 모델 컴파일\n",
    "model.compile(loss='binary_crossentropy', optimizer='adam',metrics=['accuracy'])\n",
    "\n",
    "# 모델 실행\n",
    "hist=model.fit(X, y, epochs=300, batch_size=50, validation_data=(X_test, y_test))\n",
    "model.reset_states()\n",
    "\n",
    "# 결과 출력\n",
    "print(\"\\n Accuracy: %.4f\" % (model.evaluate(X, y)[1]))"
   ]
  },
  {
   "cell_type": "code",
   "execution_count": 306,
   "metadata": {},
   "outputs": [
    {
     "data": {
      "image/png": "[encoded data removed]",
      "text/plain": [
       "<Figure size 432x288 with 2 Axes>"
      ]
     },
     "metadata": {
      "needs_background": "light"
     },
     "output_type": "display_data"
    }
   ],
   "source": [
    "%matplotlib inline\n",
    "import matplotlib.pyplot as plt\n",
    "\n",
    "fig, loss_ax = plt.subplots()\n",
    "\n",
    "acc_ax = loss_ax.twinx()\n",
    "\n",
    "loss_ax.plot(hist.history['loss'], 'y', label='train loss')\n",
    "loss_ax.plot(hist.history['val_loss'], 'r', label='val loss')\n",
    "\n",
    "acc_ax.plot(hist.history['acc'], 'b', label='train acc')\n",
    "acc_ax.plot(hist.history['val_acc'], 'g', label='val acc')\n",
    "\n",
    "loss_ax.set_xlabel('epoch')\n",
    "loss_ax.set_ylabel('loss')\n",
    "acc_ax.set_ylabel('accuray')\n",
    "\n",
    "loss_ax.legend(loc='upper left')\n",
    "acc_ax.legend(loc='lower left')\n",
    "\n",
    "plt.show()\n"
   ]
  },
  {
   "cell_type": "code",
   "execution_count": 283,
   "metadata": {
    "collapsed": true
   },
   "outputs": [
    {
     "name": "stdout",
     "output_type": "stream",
     "text": [
      "              precision    recall  f1-score   support\n",
      "\n",
      "           0       0.96      0.93      0.94       295\n",
      "           1       0.37      0.52      0.43        25\n",
      "\n",
      "   micro avg       0.89      0.89      0.89       320\n",
      "   macro avg       0.66      0.72      0.69       320\n",
      "weighted avg       0.91      0.89      0.90       320\n",
      "\n"
     ]
    }
   ],
   "source": [
    "print(classification_report(model.predict_classes(X_test),y_test))"
   ]
  },
  {
   "cell_type": "code",
   "execution_count": 17,
   "metadata": {},
   "outputs": [],
   "source": [
    "from sklearn.metrics import confusion_matrix, classification_report\n",
    "from sklearn.preprocessing import StandardScaler, LabelEncoder\n",
    "from sklearn.model_selection import train_test_split, GridSearchCV, cross_val_score"
   ]
  },
  {
   "cell_type": "code",
   "execution_count": 102,
   "metadata": {},
   "outputs": [],
   "source": [
    "X_train, X_test, y_train, y_test = train_test_split(X, y, test_size = 0.2, random_state = 100)"
   ]
  },
  {
   "cell_type": "code",
   "execution_count": 206,
   "metadata": {
    "scrolled": true
   },
   "outputs": [
    {
     "name": "stdout",
     "output_type": "stream",
     "text": [
      "훈련 세트 정확도: 0.81\n",
      "테스트 세트 정확도: 0.72\n",
      "              precision    recall  f1-score   support\n",
      "\n",
      "           0       0.96      0.72      0.82       285\n",
      "           1       0.25      0.77      0.38        35\n",
      "\n",
      "   micro avg       0.72      0.72      0.73       320\n",
      "   macro avg       0.61      0.75      0.60       320\n",
      "weighted avg       0.88      0.72      0.77       320\n",
      "\n"
     ]
    }
   ],
   "source": [
    "from sklearn.linear_model import LogisticRegression\n",
    "LR = LogisticRegression(class_weight='balanced')\n",
    "logreg = LR.fit(X_train, y_train)\n",
    "print(\"훈련 세트 정확도: {:.2f}\".format(logreg.score(X_train, y_train)))\n",
    "print(\"테스트 세트 정확도: {:.2f}\".format(logreg.score(X_test, y_test)))\n",
    "pred_LR = LR.predict(X_test)\n",
    "print(classification_report(y_test,pred_LR))"
   ]
  },
  {
   "cell_type": "code",
   "execution_count": 112,
   "metadata": {},
   "outputs": [
    {
     "name": "stdout",
     "output_type": "stream",
     "text": [
      "훈련 세트 정확도: 0.87\n",
      "테스트 세트 정확도: 0.90\n",
      "              precision    recall  f1-score   support\n",
      "\n",
      "           0       0.93      0.96      0.94       285\n",
      "           1       0.56      0.40      0.47        35\n",
      "\n",
      "   micro avg       0.90      0.90      0.90       320\n",
      "   macro avg       0.74      0.68      0.71       320\n",
      "weighted avg       0.89      0.90      0.89       320\n",
      "\n"
     ]
    }
   ],
   "source": [
    "from sklearn.linear_model import LogisticRegression\n",
    "LR = LogisticRegression()\n",
    "logreg = LR.fit(X_train, y_train)\n",
    "print(\"훈련 세트 정확도: {:.2f}\".format(logreg.score(X_train, y_train)))\n",
    "print(\"테스트 세트 정확도: {:.2f}\".format(logreg.score(X_test, y_test)))\n",
    "pred_LR = LR.predict(X_test)\n",
    "print(classification_report(y_test,pred_LR))"
   ]
  },
  {
   "cell_type": "code",
   "execution_count": 288,
   "metadata": {},
   "outputs": [
    {
     "name": "stdout",
     "output_type": "stream",
     "text": [
      "훈련 세트 정확도: 0.91\n",
      "테스트 세트 정확도: 0.81\n",
      "              precision    recall  f1-score   support\n",
      "\n",
      "           0       0.96      0.81      0.88       285\n",
      "           1       0.33      0.74      0.46        35\n",
      "\n",
      "   micro avg       0.81      0.81      0.81       320\n",
      "   macro avg       0.65      0.78      0.67       320\n",
      "weighted avg       0.89      0.81      0.84       320\n",
      "\n"
     ]
    }
   ],
   "source": [
    "from sklearn.svm import SVC\n",
    "svc = SVC(class_weight='balanced')\n",
    "svm = svc.fit(X_train, y_train)\n",
    "print(\"훈련 세트 정확도: {:.2f}\".format(svc.score(X_train, y_train)))\n",
    "print(\"테스트 세트 정확도: {:.2f}\".format(svc.score(X_test, y_test)))\n",
    "pred_svc =svc.predict(X_test)\n",
    "print(classification_report(y_test,svc.predict(X_test)))"
   ]
  },
  {
   "cell_type": "code",
   "execution_count": 122,
   "metadata": {},
   "outputs": [
    {
     "name": "stdout",
     "output_type": "stream",
     "text": [
      "훈련 세트 정확도: 0.92\n",
      "테스트 세트 정확도: 0.88\n",
      "              precision    recall  f1-score   support\n",
      "\n",
      "           0       0.91      0.97      0.94       285\n",
      "           1       0.44      0.20      0.27        35\n",
      "\n",
      "   micro avg       0.88      0.88      0.88       320\n",
      "   macro avg       0.67      0.58      0.61       320\n",
      "weighted avg       0.86      0.88      0.86       320\n",
      "\n"
     ]
    }
   ],
   "source": [
    "from sklearn.svm import SVC\n",
    "svc = SVC()\n",
    "svm = svc.fit(X_train, y_train)\n",
    "print(\"훈련 세트 정확도: {:.2f}\".format(svc.score(X_train, y_train)))\n",
    "print(\"테스트 세트 정확도: {:.2f}\".format(svc.score(X_test, y_test)))\n",
    "pred_svc =svc.predict(X_test)\n",
    "print(classification_report(y_test,svc.predict(X_test)))"
   ]
  },
  {
   "cell_type": "code",
   "execution_count": 289,
   "metadata": {},
   "outputs": [
    {
     "name": "stdout",
     "output_type": "stream",
     "text": [
      "              precision    recall  f1-score   support\n",
      "\n",
      "           0       0.95      0.96      0.96       285\n",
      "           1       0.68      0.60      0.64        35\n",
      "\n",
      "   micro avg       0.93      0.93      0.93       320\n",
      "   macro avg       0.81      0.78      0.80       320\n",
      "weighted avg       0.92      0.93      0.92       320\n",
      "\n"
     ]
    }
   ],
   "source": [
    "from sklearn.ensemble import RandomForestClassifier\n",
    "rfc = RandomForestClassifier(n_estimators=10,random_state = 100,class_weight='balanced')\n",
    "rfc.fit(X_train, y_train)\n",
    "pred_rfc = rfc.predict(X_test)\n",
    "print(classification_report(y_test, pred_rfc))"
   ]
  },
  {
   "cell_type": "code",
   "execution_count": 199,
   "metadata": {},
   "outputs": [
    {
     "name": "stdout",
     "output_type": "stream",
     "text": [
      "              precision    recall  f1-score   support\n",
      "\n",
      "           0       0.95      0.95      0.95       285\n",
      "           1       0.61      0.57      0.59        35\n",
      "\n",
      "   micro avg       0.91      0.91      0.91       320\n",
      "   macro avg       0.78      0.76      0.77       320\n",
      "weighted avg       0.91      0.91      0.91       320\n",
      "\n"
     ]
    }
   ],
   "source": [
    "from sklearn.ensemble import RandomForestClassifier\n",
    "rfc = RandomForestClassifier(n_estimators=10,random_state = 100)\n",
    "rfc.fit(X_train, y_train)\n",
    "pred_rfc = rfc.predict(X_test)\n",
    "print(classification_report(y_test, pred_rfc))"
   ]
  },
  {
   "cell_type": "code",
   "execution_count": 307,
   "metadata": {},
   "outputs": [
    {
     "name": "stdout",
     "output_type": "stream",
     "text": [
      "테스트 세트 점수: 0.93\n",
      "최적 매개변수: {'C': 0.8, 'gamma': 0.9, 'kernel': 'rbf'}\n",
      "최고 교차 검증 점수: 0.89\n"
     ]
    }
   ],
   "source": [
    "from sklearn.model_selection import GridSearchCV\n",
    "\n",
    "param_grid = {'C': [0.1,0.8,0.9,1,1.1,1.2,1.3,1.4],\n",
    "              'kernel':['rbf'],\n",
    "              'gamma': [0.1,0.8,0.9,1,1.1,1.2,1.3,1.4]}\n",
    "grid_search = GridSearchCV(SVC(class_weight='balanced'), param_grid, cv=5, return_train_score=True)\n",
    "grid_search.fit(X_train, y_train)\n",
    "print(\"테스트 세트 점수: {:.2f}\".format(grid_search.score(X_test, y_test)))\n",
    "print(\"최적 매개변수: {}\".format(grid_search.best_params_))\n",
    "print(\"최고 교차 검증 점수: {:.2f}\".format(grid_search.best_score_))"
   ]
  },
  {
   "cell_type": "code",
   "execution_count": 308,
   "metadata": {},
   "outputs": [
    {
     "name": "stdout",
     "output_type": "stream",
     "text": [
      "              precision    recall  f1-score   support\n",
      "\n",
      "           0       0.93      0.99      0.96       285\n",
      "           1       0.79      0.43      0.56        35\n",
      "\n",
      "   micro avg       0.93      0.93      0.93       320\n",
      "   macro avg       0.86      0.71      0.76       320\n",
      "weighted avg       0.92      0.93      0.91       320\n",
      "\n"
     ]
    }
   ],
   "source": [
    "from sklearn.model_selection import GridSearchCV\n",
    "\n",
    "param_grid = {'C': [0.8], 'kernel':['rbf'],'gamma': [0.9]}\n",
    "grid_search = GridSearchCV(SVC(class_weight='balanced'), param_grid, cv=5, return_train_score=True)\n",
    "grid_search.fit(X_train, y_train)\n",
    "pred_grid = grid_search.predict(X_test)\n",
    "print(classification_report(y_test, pred_grid))"
   ]
  },
  {
   "cell_type": "code",
   "execution_count": null,
   "metadata": {},
   "outputs": [],
   "source": []
  }
 ],
 "metadata": {
  "kernelspec": {
   "display_name": "Python 3",
   "language": "python",
   "name": "python3"
  },
  "language_info": {
   "codemirror_mode": {
    "name": "ipython",
    "version": 3
   },
   "file_extension": ".py",
   "mimetype": "text/x-python",
   "name": "python",
   "nbconvert_exporter": "python",
   "pygments_lexer": "ipython3",
   "version": "3.6.7"
  }
 },
 "nbformat": 4,
 "nbformat_minor": 2
}
