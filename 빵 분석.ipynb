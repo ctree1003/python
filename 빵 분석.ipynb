{
 "cells": [
  {
   "cell_type": "code",
   "execution_count": 74,
   "metadata": {},
   "outputs": [],
   "source": [
    "#분석 라이브러리 \n",
    "import numpy as np\n",
    "import pandas as pd"
   ]
  },
  {
   "cell_type": "code",
   "execution_count": 34,
   "metadata": {},
   "outputs": [],
   "source": [
    "#시각화 라이브러리\n",
    "import matplotlib.pyplot as plt\n",
    "import seaborn as sns"
   ]
  },
  {
   "cell_type": "code",
   "execution_count": 4,
   "metadata": {},
   "outputs": [],
   "source": [
    "# Seaborn 오류 무시\n",
    "import warnings\n",
    "warnings.filterwarnings('ignore')"
   ]
  },
  {
   "cell_type": "code",
   "execution_count": 285,
   "metadata": {},
   "outputs": [],
   "source": [
    "from mlxtend.frequent_patterns import apriori  \n",
    "from mlxtend.frequent_patterns import association_rules"
   ]
  },
  {
   "cell_type": "code",
   "execution_count": 5,
   "metadata": {},
   "outputs": [],
   "source": [
    "df = pd.read_csv(\"C:/Users/student/Downloads/BreadBasket_DMS.csv\")"
   ]
  },
  {
   "cell_type": "code",
   "execution_count": 193,
   "metadata": {},
   "outputs": [
    {
     "data": {
      "text/html": [
       "<div>\n",
       "<style scoped>\n",
       "    .dataframe tbody tr th:only-of-type {\n",
       "        vertical-align: middle;\n",
       "    }\n",
       "\n",
       "    .dataframe tbody tr th {\n",
       "        vertical-align: top;\n",
       "    }\n",
       "\n",
       "    .dataframe thead th {\n",
       "        text-align: right;\n",
       "    }\n",
       "</style>\n",
       "<table border=\"1\" class=\"dataframe\">\n",
       "  <thead>\n",
       "    <tr style=\"text-align: right;\">\n",
       "      <th></th>\n",
       "      <th>Date</th>\n",
       "      <th>Time</th>\n",
       "      <th>Transaction</th>\n",
       "      <th>Item</th>\n",
       "      <th>datetime</th>\n",
       "      <th>day_of_week</th>\n",
       "    </tr>\n",
       "  </thead>\n",
       "  <tbody>\n",
       "    <tr>\n",
       "      <th>0</th>\n",
       "      <td>2016-10-30</td>\n",
       "      <td>09:58:11</td>\n",
       "      <td>1</td>\n",
       "      <td>bread</td>\n",
       "      <td>2016-10-30 09:58:11</td>\n",
       "      <td>Sunday</td>\n",
       "    </tr>\n",
       "    <tr>\n",
       "      <th>1</th>\n",
       "      <td>2016-10-30</td>\n",
       "      <td>10:05:34</td>\n",
       "      <td>2</td>\n",
       "      <td>scandinavian</td>\n",
       "      <td>2016-10-30 10:05:34</td>\n",
       "      <td>Sunday</td>\n",
       "    </tr>\n",
       "    <tr>\n",
       "      <th>2</th>\n",
       "      <td>2016-10-30</td>\n",
       "      <td>10:05:34</td>\n",
       "      <td>2</td>\n",
       "      <td>scandinavian</td>\n",
       "      <td>2016-10-30 10:05:34</td>\n",
       "      <td>Sunday</td>\n",
       "    </tr>\n",
       "    <tr>\n",
       "      <th>3</th>\n",
       "      <td>2016-10-30</td>\n",
       "      <td>10:07:57</td>\n",
       "      <td>3</td>\n",
       "      <td>hot chocolate</td>\n",
       "      <td>2016-10-30 10:07:57</td>\n",
       "      <td>Sunday</td>\n",
       "    </tr>\n",
       "    <tr>\n",
       "      <th>4</th>\n",
       "      <td>2016-10-30</td>\n",
       "      <td>10:07:57</td>\n",
       "      <td>3</td>\n",
       "      <td>jam</td>\n",
       "      <td>2016-10-30 10:07:57</td>\n",
       "      <td>Sunday</td>\n",
       "    </tr>\n",
       "  </tbody>\n",
       "</table>\n",
       "</div>"
      ],
      "text/plain": [
       "         Date      Time  Transaction           Item            datetime  \\\n",
       "0  2016-10-30  09:58:11            1          bread 2016-10-30 09:58:11   \n",
       "1  2016-10-30  10:05:34            2   scandinavian 2016-10-30 10:05:34   \n",
       "2  2016-10-30  10:05:34            2   scandinavian 2016-10-30 10:05:34   \n",
       "3  2016-10-30  10:07:57            3  hot chocolate 2016-10-30 10:07:57   \n",
       "4  2016-10-30  10:07:57            3            jam 2016-10-30 10:07:57   \n",
       "\n",
       "  day_of_week  \n",
       "0      Sunday  \n",
       "1      Sunday  \n",
       "2      Sunday  \n",
       "3      Sunday  \n",
       "4      Sunday  "
      ]
     },
     "execution_count": 193,
     "metadata": {},
     "output_type": "execute_result"
    }
   ],
   "source": [
    "df.head(5)"
   ]
  },
  {
   "cell_type": "code",
   "execution_count": 194,
   "metadata": {},
   "outputs": [],
   "source": [
    "df['Item'] = df['Item'].str.lower() # 편하게 확인하기 위해 대문자를 소문자로 바꿔줌"
   ]
  },
  {
   "cell_type": "code",
   "execution_count": 195,
   "metadata": {},
   "outputs": [
    {
     "name": "stdout",
     "output_type": "stream",
     "text": [
      "False    20507\n",
      "Name: Item, dtype: int64\n"
     ]
    }
   ],
   "source": [
    "x=df['Item'] == 'none' # 결측치 확인\n",
    "print(x.value_counts()) # 786개의 결측치를 확인"
   ]
  },
  {
   "cell_type": "code",
   "execution_count": 196,
   "metadata": {},
   "outputs": [],
   "source": [
    "df=df.drop(df[df.Item == 'none'].index)"
   ]
  },
  {
   "cell_type": "code",
   "execution_count": 197,
   "metadata": {},
   "outputs": [
    {
     "data": {
      "text/plain": [
       "array(['bread', 'scandinavian', 'hot chocolate', 'jam', 'cookies',\n",
       "       'muffin', 'coffee', 'pastry', 'medialuna', 'tea', 'tartine',\n",
       "       'basket', 'mineral water', 'farm house', 'fudge', 'juice',\n",
       "       \"ella's kitchen pouches\", 'victorian sponge', 'frittata',\n",
       "       'hearty & seasonal', 'soup', 'pick and mix bowls', 'smoothies',\n",
       "       'cake', 'mighty protein', 'chicken sand', 'coke',\n",
       "       'my-5 fruit shoot', 'focaccia', 'sandwich', 'alfajores', 'eggs',\n",
       "       'brownie', 'dulce de leche', 'honey', 'the bart', 'granola',\n",
       "       'fairy doors', 'empanadas', 'keeping it local', 'art tray',\n",
       "       'bowl nic pitt', 'bread pudding', 'adjustment', 'truffles',\n",
       "       'chimichurri oil', 'bacon', 'spread', 'kids biscuit', 'siblings',\n",
       "       'caramel bites', 'jammie dodgers', 'tiffin', 'olum & polenta',\n",
       "       'polenta', 'the nomad', 'hack the stack', 'bakewell',\n",
       "       'lemon and coconut', 'toast', 'scone', 'crepes', 'vegan mincepie',\n",
       "       'bare popcorn', 'muesli', 'crisps', 'pintxos', 'gingerbread syrup',\n",
       "       'panatone', 'brioche and salami', 'afternoon with the baker',\n",
       "       'salad', 'chicken stew', 'spanish brunch',\n",
       "       'raspberry shortbread sandwich', 'extra salami or feta',\n",
       "       'duck egg', 'baguette', \"valentine's card\", 'tshirt',\n",
       "       'vegan feast', 'postcard', 'nomad bag', 'chocolates',\n",
       "       'coffee granules ', 'drinking chocolate spoons ',\n",
       "       'christmas common', 'argentina night', 'half slice monster ',\n",
       "       'gift voucher', 'cherry me dried fruit', 'mortimer', 'raw bars',\n",
       "       'tacos/fajita'], dtype=object)"
      ]
     },
     "execution_count": 197,
     "metadata": {},
     "output_type": "execute_result"
    }
   ],
   "source": [
    "df['Item'].unique() # Item 종류 확인"
   ]
  },
  {
   "cell_type": "code",
   "execution_count": 198,
   "metadata": {},
   "outputs": [
    {
     "data": {
      "text/plain": [
       "94"
      ]
     },
     "execution_count": 198,
     "metadata": {},
     "output_type": "execute_result"
    }
   ],
   "source": [
    "len(df['Item'].unique()) # Item의 개수 확인"
   ]
  },
  {
   "cell_type": "code",
   "execution_count": 199,
   "metadata": {},
   "outputs": [
    {
     "data": {
      "text/plain": [
       "coffee           5471\n",
       "bread            3325\n",
       "tea              1435\n",
       "cake             1025\n",
       "pastry            856\n",
       "sandwich          771\n",
       "medialuna         616\n",
       "hot chocolate     590\n",
       "cookies           540\n",
       "brownie           379\n",
       "Name: Item, dtype: int64"
      ]
     },
     "execution_count": 199,
     "metadata": {},
     "output_type": "execute_result"
    }
   ],
   "source": [
    "top_10_seller=df['Item'].value_counts().head(10) # 제일 많이 팔린 10개의 아이템 확인\n",
    "top_10_seller"
   ]
  },
  {
   "cell_type": "code",
   "execution_count": 200,
   "metadata": {},
   "outputs": [
    {
     "name": "stdout",
     "output_type": "stream",
     "text": [
      "<class 'pandas.core.series.Series'>\n"
     ]
    },
    {
     "data": {
      "text/plain": [
       "Index(['coffee', 'bread', 'tea', 'cake', 'pastry', 'sandwich', 'medialuna',\n",
       "       'hot chocolate', 'cookies', 'brownie'],\n",
       "      dtype='object')"
      ]
     },
     "execution_count": 200,
     "metadata": {},
     "output_type": "execute_result"
    }
   ],
   "source": [
    "print(type(top_10_seller)) # 시리즈로 저장이 되어있다\n",
    "top_10_seller.index # 시리즈 인덱스"
   ]
  },
  {
   "cell_type": "code",
   "execution_count": 201,
   "metadata": {},
   "outputs": [
    {
     "data": {
      "text/plain": [
       "array([5471, 3325, 1435, 1025,  856,  771,  616,  590,  540,  379],\n",
       "      dtype=int64)"
      ]
     },
     "execution_count": 201,
     "metadata": {},
     "output_type": "execute_result"
    }
   ],
   "source": [
    "top_10_seller.values # 시리즈 값"
   ]
  },
  {
   "cell_type": "code",
   "execution_count": 202,
   "metadata": {},
   "outputs": [
    {
     "data": {
      "text/plain": [
       "<matplotlib.axes._subplots.AxesSubplot at 0x10158780>"
      ]
     },
     "execution_count": 202,
     "metadata": {},
     "output_type": "execute_result"
    },
    {
     "data": {
      "image/png": "[encoded data removed]",
      "text/plain": [
       "<Figure size 432x288 with 1 Axes>"
      ]
     },
     "metadata": {
      "needs_background": "light"
     },
     "output_type": "display_data"
    }
   ],
   "source": [
    "sns.barplot(x=top_10_seller.index, y=top_10_seller.values, data=df) # 시각화"
   ]
  },
  {
   "cell_type": "code",
   "execution_count": 203,
   "metadata": {},
   "outputs": [
    {
     "name": "stdout",
     "output_type": "stream",
     "text": [
      "<class 'pandas.core.frame.DataFrame'>\n",
      "Int64Index: 20507 entries, 0 to 21292\n",
      "Data columns (total 6 columns):\n",
      "Date           20507 non-null object\n",
      "Time           20507 non-null object\n",
      "Transaction    20507 non-null int64\n",
      "Item           20507 non-null object\n",
      "datetime       20507 non-null datetime64[ns]\n",
      "day_of_week    20507 non-null object\n",
      "dtypes: datetime64[ns](1), int64(1), object(4)\n",
      "memory usage: 1.1+ MB\n"
     ]
    }
   ],
   "source": [
    "df.info()"
   ]
  },
  {
   "cell_type": "code",
   "execution_count": 204,
   "metadata": {},
   "outputs": [],
   "source": [
    "df['datetime'] = pd.to_datetime(df['Date']+' '+ df['Time']) #일자와 시간을 합치고"
   ]
  },
  {
   "cell_type": "code",
   "execution_count": 205,
   "metadata": {},
   "outputs": [],
   "source": [
    "df['day_of_week'] = df['datetime'].dt.day_name() # 요일 표시"
   ]
  },
  {
   "cell_type": "code",
   "execution_count": 206,
   "metadata": {},
   "outputs": [
    {
     "data": {
      "text/plain": [
       "Saturday     4605\n",
       "Friday       3124\n",
       "Sunday       3095\n",
       "Thursday     2646\n",
       "Tuesday      2392\n",
       "Monday       2324\n",
       "Wednesday    2321\n",
       "Name: day_of_week, dtype: int64"
      ]
     },
     "execution_count": 206,
     "metadata": {},
     "output_type": "execute_result"
    }
   ],
   "source": [
    "total_items_by_weekday = df['day_of_week'].value_counts() # 언제 제일 많이 샀는지 확인\n",
    "total_items_by_weekday"
   ]
  },
  {
   "cell_type": "code",
   "execution_count": 207,
   "metadata": {},
   "outputs": [
    {
     "data": {
      "text/plain": [
       "<matplotlib.axes._subplots.AxesSubplot at 0x103520b8>"
      ]
     },
     "execution_count": 207,
     "metadata": {},
     "output_type": "execute_result"
    },
    {
     "data": {
      "image/png": "[encoded data removed]",
      "text/plain": [
       "<Figure size 432x288 with 1 Axes>"
      ]
     },
     "metadata": {
      "needs_background": "light"
     },
     "output_type": "display_data"
    }
   ],
   "source": [
    "sns.barplot(x=total_items_by_weekday.index, y=total_items_by_weekday.values, data=df) # 시각화"
   ]
  },
  {
   "cell_type": "code",
   "execution_count": 222,
   "metadata": {},
   "outputs": [
    {
     "data": {
      "text/plain": [
       "11    3102\n",
       "12    2854\n",
       "10    2666\n",
       "14    2640\n",
       "13    2617\n",
       "15    2115\n",
       "9     1966\n",
       "16    1343\n",
       "8      645\n",
       "17     368\n",
       "18      82\n",
       "19      48\n",
       "7       24\n",
       "20      22\n",
       "22       8\n",
       "23       3\n",
       "21       3\n",
       "1        1\n",
       "Name: Time, dtype: int64"
      ]
     },
     "execution_count": 222,
     "metadata": {},
     "output_type": "execute_result"
    }
   ],
   "source": [
    "x=pd.to_datetime(df['Time']) #Time 데이터 type object -> datetime64 변환\n",
    "sell_time = x.dt.hour.value_counts() # 어느 시간에 가장 많이 샀는지 확인\n",
    "sell_time"
   ]
  },
  {
   "cell_type": "code",
   "execution_count": 223,
   "metadata": {
    "scrolled": false
   },
   "outputs": [
    {
     "data": {
      "text/plain": [
       "<matplotlib.axes._subplots.AxesSubplot at 0x104d5cc0>"
      ]
     },
     "execution_count": 223,
     "metadata": {},
     "output_type": "execute_result"
    },
    {
     "data": {
      "image/png": "[encoded data removed]",
      "text/plain": [
       "<Figure size 432x288 with 1 Axes>"
      ]
     },
     "metadata": {
      "needs_background": "light"
     },
     "output_type": "display_data"
    }
   ],
   "source": [
    "sns.barplot(x=sell_time.index, y=sell_time.values, data=df) # 시각화"
   ]
  },
  {
   "cell_type": "code",
   "execution_count": 319,
   "metadata": {},
   "outputs": [
    {
     "name": "stdout",
     "output_type": "stream",
     "text": [
      "Item        adjustment afternoon with the baker alfajores argentina night  \\\n",
      "Transaction                                                                 \n",
      "1                    0                        0         0               0   \n",
      "2                    0                        0         0               0   \n",
      "3                    0                        0         0               0   \n",
      "4                    0                        0         0               0   \n",
      "5                    0                        0         0               0   \n",
      "\n",
      "Item        art tray bacon baguette bakewell bare popcorn basket  \\\n",
      "Transaction                                                        \n",
      "1                  0     0        0        0            0      0   \n",
      "2                  0     0        0        0            0      0   \n",
      "3                  0     0        0        0            0      0   \n",
      "4                  0     0        0        0            0      0   \n",
      "5                  0     0        0        0            0      0   \n",
      "\n",
      "Item              ...        the bart the nomad tiffin toast truffles tshirt  \\\n",
      "Transaction       ...                                                          \n",
      "1                 ...               0         0      0     0        0      0   \n",
      "2                 ...               0         0      0     0        0      0   \n",
      "3                 ...               0         0      0     0        0      0   \n",
      "4                 ...               0         0      0     0        0      0   \n",
      "5                 ...               0         0      0     0        0      0   \n",
      "\n",
      "Item        valentine's card vegan feast vegan mincepie victorian sponge  \n",
      "Transaction                                                               \n",
      "1                          0           0              0                0  \n",
      "2                          0           0              0                0  \n",
      "3                          0           0              0                0  \n",
      "4                          0           0              0                0  \n",
      "5                          0           0              0                0  \n",
      "\n",
      "[5 rows x 94 columns]\n"
     ]
    }
   ],
   "source": [
    "basket = df.groupby(['Transaction', 'Item'])['Item'].sum().unstack().fillna(0)\n",
    "print(basket.head())"
   ]
  },
  {
   "cell_type": "code",
   "execution_count": 321,
   "metadata": {},
   "outputs": [
    {
     "name": "stdout",
     "output_type": "stream",
     "text": [
      "     support                 itemsets\n",
      "0   0.036344              (alfajores)\n",
      "1   0.327205                  (bread)\n",
      "2   0.040042                (brownie)\n",
      "3   0.103856                   (cake)\n",
      "4   0.478394                 (coffee)\n",
      "5   0.054411                (cookies)\n",
      "6   0.039197             (farm house)\n",
      "7   0.058320          (hot chocolate)\n",
      "8   0.038563                  (juice)\n",
      "9   0.061807              (medialuna)\n",
      "10  0.038457                 (muffin)\n",
      "11  0.086107                 (pastry)\n",
      "12  0.071844               (sandwich)\n",
      "13  0.029054           (scandinavian)\n",
      "14  0.034548                  (scone)\n",
      "15  0.034443                   (soup)\n",
      "16  0.142631                    (tea)\n",
      "17  0.033597                  (toast)\n",
      "18  0.020285               (truffles)\n",
      "19  0.023349            (bread, cake)\n",
      "20  0.090016          (coffee, bread)\n",
      "21  0.029160          (pastry, bread)\n",
      "22  0.028104             (tea, bread)\n",
      "23  0.054728           (coffee, cake)\n",
      "24  0.023772              (tea, cake)\n",
      "25  0.028209        (coffee, cookies)\n",
      "26  0.029583  (coffee, hot chocolate)\n",
      "27  0.020602          (coffee, juice)\n",
      "28  0.035182      (coffee, medialuna)\n",
      "29  0.047544         (coffee, pastry)\n",
      "30  0.038246       (coffee, sandwich)\n",
      "31  0.049868            (coffee, tea)\n",
      "32  0.023666          (coffee, toast)\n"
     ]
    }
   ],
   "source": [
    "frequent_itemsets = apriori(basket_sets,min_support=0.02,  use_colnames=True)\n",
    "print(frequent_itemsets)"
   ]
  },
  {
   "cell_type": "code",
   "execution_count": 325,
   "metadata": {},
   "outputs": [
    {
     "data": {
      "text/html": [
       "<div>\n",
       "<style scoped>\n",
       "    .dataframe tbody tr th:only-of-type {\n",
       "        vertical-align: middle;\n",
       "    }\n",
       "\n",
       "    .dataframe tbody tr th {\n",
       "        vertical-align: top;\n",
       "    }\n",
       "\n",
       "    .dataframe thead th {\n",
       "        text-align: right;\n",
       "    }\n",
       "</style>\n",
       "<table border=\"1\" class=\"dataframe\">\n",
       "  <thead>\n",
       "    <tr style=\"text-align: right;\">\n",
       "      <th></th>\n",
       "      <th>antecedents</th>\n",
       "      <th>consequents</th>\n",
       "      <th>antecedent support</th>\n",
       "      <th>consequent support</th>\n",
       "      <th>support</th>\n",
       "      <th>confidence</th>\n",
       "      <th>lift</th>\n",
       "      <th>leverage</th>\n",
       "      <th>conviction</th>\n",
       "    </tr>\n",
       "  </thead>\n",
       "  <tbody>\n",
       "    <tr>\n",
       "      <th>0</th>\n",
       "      <td>(pastry)</td>\n",
       "      <td>(bread)</td>\n",
       "      <td>0.086107</td>\n",
       "      <td>0.327205</td>\n",
       "      <td>0.029160</td>\n",
       "      <td>0.338650</td>\n",
       "      <td>1.034977</td>\n",
       "      <td>0.000985</td>\n",
       "      <td>1.017305</td>\n",
       "    </tr>\n",
       "    <tr>\n",
       "      <th>1</th>\n",
       "      <td>(bread)</td>\n",
       "      <td>(pastry)</td>\n",
       "      <td>0.327205</td>\n",
       "      <td>0.086107</td>\n",
       "      <td>0.029160</td>\n",
       "      <td>0.089119</td>\n",
       "      <td>1.034977</td>\n",
       "      <td>0.000985</td>\n",
       "      <td>1.003306</td>\n",
       "    </tr>\n",
       "    <tr>\n",
       "      <th>2</th>\n",
       "      <td>(coffee)</td>\n",
       "      <td>(cake)</td>\n",
       "      <td>0.478394</td>\n",
       "      <td>0.103856</td>\n",
       "      <td>0.054728</td>\n",
       "      <td>0.114399</td>\n",
       "      <td>1.101515</td>\n",
       "      <td>0.005044</td>\n",
       "      <td>1.011905</td>\n",
       "    </tr>\n",
       "    <tr>\n",
       "      <th>3</th>\n",
       "      <td>(cake)</td>\n",
       "      <td>(coffee)</td>\n",
       "      <td>0.103856</td>\n",
       "      <td>0.478394</td>\n",
       "      <td>0.054728</td>\n",
       "      <td>0.526958</td>\n",
       "      <td>1.101515</td>\n",
       "      <td>0.005044</td>\n",
       "      <td>1.102664</td>\n",
       "    </tr>\n",
       "    <tr>\n",
       "      <th>4</th>\n",
       "      <td>(tea)</td>\n",
       "      <td>(cake)</td>\n",
       "      <td>0.142631</td>\n",
       "      <td>0.103856</td>\n",
       "      <td>0.023772</td>\n",
       "      <td>0.166667</td>\n",
       "      <td>1.604781</td>\n",
       "      <td>0.008959</td>\n",
       "      <td>1.075372</td>\n",
       "    </tr>\n",
       "    <tr>\n",
       "      <th>5</th>\n",
       "      <td>(cake)</td>\n",
       "      <td>(tea)</td>\n",
       "      <td>0.103856</td>\n",
       "      <td>0.142631</td>\n",
       "      <td>0.023772</td>\n",
       "      <td>0.228891</td>\n",
       "      <td>1.604781</td>\n",
       "      <td>0.008959</td>\n",
       "      <td>1.111865</td>\n",
       "    </tr>\n",
       "    <tr>\n",
       "      <th>6</th>\n",
       "      <td>(coffee)</td>\n",
       "      <td>(cookies)</td>\n",
       "      <td>0.478394</td>\n",
       "      <td>0.054411</td>\n",
       "      <td>0.028209</td>\n",
       "      <td>0.058966</td>\n",
       "      <td>1.083723</td>\n",
       "      <td>0.002179</td>\n",
       "      <td>1.004841</td>\n",
       "    </tr>\n",
       "    <tr>\n",
       "      <th>7</th>\n",
       "      <td>(cookies)</td>\n",
       "      <td>(coffee)</td>\n",
       "      <td>0.054411</td>\n",
       "      <td>0.478394</td>\n",
       "      <td>0.028209</td>\n",
       "      <td>0.518447</td>\n",
       "      <td>1.083723</td>\n",
       "      <td>0.002179</td>\n",
       "      <td>1.083174</td>\n",
       "    </tr>\n",
       "    <tr>\n",
       "      <th>8</th>\n",
       "      <td>(coffee)</td>\n",
       "      <td>(hot chocolate)</td>\n",
       "      <td>0.478394</td>\n",
       "      <td>0.058320</td>\n",
       "      <td>0.029583</td>\n",
       "      <td>0.061837</td>\n",
       "      <td>1.060311</td>\n",
       "      <td>0.001683</td>\n",
       "      <td>1.003749</td>\n",
       "    </tr>\n",
       "    <tr>\n",
       "      <th>9</th>\n",
       "      <td>(hot chocolate)</td>\n",
       "      <td>(coffee)</td>\n",
       "      <td>0.058320</td>\n",
       "      <td>0.478394</td>\n",
       "      <td>0.029583</td>\n",
       "      <td>0.507246</td>\n",
       "      <td>1.060311</td>\n",
       "      <td>0.001683</td>\n",
       "      <td>1.058553</td>\n",
       "    </tr>\n",
       "    <tr>\n",
       "      <th>10</th>\n",
       "      <td>(coffee)</td>\n",
       "      <td>(juice)</td>\n",
       "      <td>0.478394</td>\n",
       "      <td>0.038563</td>\n",
       "      <td>0.020602</td>\n",
       "      <td>0.043065</td>\n",
       "      <td>1.116750</td>\n",
       "      <td>0.002154</td>\n",
       "      <td>1.004705</td>\n",
       "    </tr>\n",
       "    <tr>\n",
       "      <th>11</th>\n",
       "      <td>(juice)</td>\n",
       "      <td>(coffee)</td>\n",
       "      <td>0.038563</td>\n",
       "      <td>0.478394</td>\n",
       "      <td>0.020602</td>\n",
       "      <td>0.534247</td>\n",
       "      <td>1.116750</td>\n",
       "      <td>0.002154</td>\n",
       "      <td>1.119919</td>\n",
       "    </tr>\n",
       "    <tr>\n",
       "      <th>12</th>\n",
       "      <td>(coffee)</td>\n",
       "      <td>(medialuna)</td>\n",
       "      <td>0.478394</td>\n",
       "      <td>0.061807</td>\n",
       "      <td>0.035182</td>\n",
       "      <td>0.073542</td>\n",
       "      <td>1.189878</td>\n",
       "      <td>0.005614</td>\n",
       "      <td>1.012667</td>\n",
       "    </tr>\n",
       "    <tr>\n",
       "      <th>13</th>\n",
       "      <td>(medialuna)</td>\n",
       "      <td>(coffee)</td>\n",
       "      <td>0.061807</td>\n",
       "      <td>0.478394</td>\n",
       "      <td>0.035182</td>\n",
       "      <td>0.569231</td>\n",
       "      <td>1.189878</td>\n",
       "      <td>0.005614</td>\n",
       "      <td>1.210871</td>\n",
       "    </tr>\n",
       "    <tr>\n",
       "      <th>14</th>\n",
       "      <td>(coffee)</td>\n",
       "      <td>(pastry)</td>\n",
       "      <td>0.478394</td>\n",
       "      <td>0.086107</td>\n",
       "      <td>0.047544</td>\n",
       "      <td>0.099382</td>\n",
       "      <td>1.154168</td>\n",
       "      <td>0.006351</td>\n",
       "      <td>1.014740</td>\n",
       "    </tr>\n",
       "    <tr>\n",
       "      <th>15</th>\n",
       "      <td>(pastry)</td>\n",
       "      <td>(coffee)</td>\n",
       "      <td>0.086107</td>\n",
       "      <td>0.478394</td>\n",
       "      <td>0.047544</td>\n",
       "      <td>0.552147</td>\n",
       "      <td>1.154168</td>\n",
       "      <td>0.006351</td>\n",
       "      <td>1.164682</td>\n",
       "    </tr>\n",
       "    <tr>\n",
       "      <th>16</th>\n",
       "      <td>(coffee)</td>\n",
       "      <td>(sandwich)</td>\n",
       "      <td>0.478394</td>\n",
       "      <td>0.071844</td>\n",
       "      <td>0.038246</td>\n",
       "      <td>0.079947</td>\n",
       "      <td>1.112792</td>\n",
       "      <td>0.003877</td>\n",
       "      <td>1.008807</td>\n",
       "    </tr>\n",
       "    <tr>\n",
       "      <th>17</th>\n",
       "      <td>(sandwich)</td>\n",
       "      <td>(coffee)</td>\n",
       "      <td>0.071844</td>\n",
       "      <td>0.478394</td>\n",
       "      <td>0.038246</td>\n",
       "      <td>0.532353</td>\n",
       "      <td>1.112792</td>\n",
       "      <td>0.003877</td>\n",
       "      <td>1.115384</td>\n",
       "    </tr>\n",
       "    <tr>\n",
       "      <th>18</th>\n",
       "      <td>(coffee)</td>\n",
       "      <td>(toast)</td>\n",
       "      <td>0.478394</td>\n",
       "      <td>0.033597</td>\n",
       "      <td>0.023666</td>\n",
       "      <td>0.049470</td>\n",
       "      <td>1.472431</td>\n",
       "      <td>0.007593</td>\n",
       "      <td>1.016699</td>\n",
       "    </tr>\n",
       "    <tr>\n",
       "      <th>19</th>\n",
       "      <td>(toast)</td>\n",
       "      <td>(coffee)</td>\n",
       "      <td>0.033597</td>\n",
       "      <td>0.478394</td>\n",
       "      <td>0.023666</td>\n",
       "      <td>0.704403</td>\n",
       "      <td>1.472431</td>\n",
       "      <td>0.007593</td>\n",
       "      <td>1.764582</td>\n",
       "    </tr>\n",
       "  </tbody>\n",
       "</table>\n",
       "</div>"
      ],
      "text/plain": [
       "        antecedents      consequents  antecedent support  consequent support  \\\n",
       "0          (pastry)          (bread)            0.086107            0.327205   \n",
       "1           (bread)         (pastry)            0.327205            0.086107   \n",
       "2          (coffee)           (cake)            0.478394            0.103856   \n",
       "3            (cake)         (coffee)            0.103856            0.478394   \n",
       "4             (tea)           (cake)            0.142631            0.103856   \n",
       "5            (cake)            (tea)            0.103856            0.142631   \n",
       "6          (coffee)        (cookies)            0.478394            0.054411   \n",
       "7         (cookies)         (coffee)            0.054411            0.478394   \n",
       "8          (coffee)  (hot chocolate)            0.478394            0.058320   \n",
       "9   (hot chocolate)         (coffee)            0.058320            0.478394   \n",
       "10         (coffee)          (juice)            0.478394            0.038563   \n",
       "11          (juice)         (coffee)            0.038563            0.478394   \n",
       "12         (coffee)      (medialuna)            0.478394            0.061807   \n",
       "13      (medialuna)         (coffee)            0.061807            0.478394   \n",
       "14         (coffee)         (pastry)            0.478394            0.086107   \n",
       "15         (pastry)         (coffee)            0.086107            0.478394   \n",
       "16         (coffee)       (sandwich)            0.478394            0.071844   \n",
       "17       (sandwich)         (coffee)            0.071844            0.478394   \n",
       "18         (coffee)          (toast)            0.478394            0.033597   \n",
       "19          (toast)         (coffee)            0.033597            0.478394   \n",
       "\n",
       "     support  confidence      lift  leverage  conviction  \n",
       "0   0.029160    0.338650  1.034977  0.000985    1.017305  \n",
       "1   0.029160    0.089119  1.034977  0.000985    1.003306  \n",
       "2   0.054728    0.114399  1.101515  0.005044    1.011905  \n",
       "3   0.054728    0.526958  1.101515  0.005044    1.102664  \n",
       "4   0.023772    0.166667  1.604781  0.008959    1.075372  \n",
       "5   0.023772    0.228891  1.604781  0.008959    1.111865  \n",
       "6   0.028209    0.058966  1.083723  0.002179    1.004841  \n",
       "7   0.028209    0.518447  1.083723  0.002179    1.083174  \n",
       "8   0.029583    0.061837  1.060311  0.001683    1.003749  \n",
       "9   0.029583    0.507246  1.060311  0.001683    1.058553  \n",
       "10  0.020602    0.043065  1.116750  0.002154    1.004705  \n",
       "11  0.020602    0.534247  1.116750  0.002154    1.119919  \n",
       "12  0.035182    0.073542  1.189878  0.005614    1.012667  \n",
       "13  0.035182    0.569231  1.189878  0.005614    1.210871  \n",
       "14  0.047544    0.099382  1.154168  0.006351    1.014740  \n",
       "15  0.047544    0.552147  1.154168  0.006351    1.164682  \n",
       "16  0.038246    0.079947  1.112792  0.003877    1.008807  \n",
       "17  0.038246    0.532353  1.112792  0.003877    1.115384  \n",
       "18  0.023666    0.049470  1.472431  0.007593    1.016699  \n",
       "19  0.023666    0.704403  1.472431  0.007593    1.764582  "
      ]
     },
     "execution_count": 325,
     "metadata": {},
     "output_type": "execute_result"
    }
   ],
   "source": [
    "rules = association_rules(frequent_itemsets, metric=\"lift\", min_threshold=1)\n",
    "rules"
   ]
  },
  {
   "cell_type": "markdown",
   "metadata": {},
   "source": [
    "결론적으로 향상도가 1 이상 되는 값이 없어서 각각 독립관계인것을 확인할수 있다"
   ]
  }
 ],
 "metadata": {
  "kernelspec": {
   "display_name": "Python 3",
   "language": "python",
   "name": "python3"
  },
  "language_info": {
   "codemirror_mode": {
    "name": "ipython",
    "version": 3
   },
   "file_extension": ".py",
   "mimetype": "text/x-python",
   "name": "python",
   "nbconvert_exporter": "python",
   "pygments_lexer": "ipython3",
   "version": "3.7.0"
  }
 },
 "nbformat": 4,
 "nbformat_minor": 2
}
