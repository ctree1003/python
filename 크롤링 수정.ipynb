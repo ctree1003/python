{
 "cells": [
  {
   "cell_type": "code",
   "execution_count": null,
   "metadata": {},
   "outputs": [],
   "source": [
    "import requests\n",
    "from bs4 import BeautifulSoup\n",
    "from time import sleep\n",
    "import pandas as pd\n",
    "import os\n",
    "from urllib import parse\n",
    "import time"
   ]
  },
  {
   "cell_type": "code",
   "execution_count": null,
   "metadata": {},
   "outputs": [],
   "source": [
    "# Dungreed\n",
    "page = 1\n",
    "site = 'https://steamcommunity.com/app/753420/homecontent/?'\n",
    "\n",
    "for idx in range(round(10 / 10)) :\n",
    "    time.sleep(1)\n",
    "    page = idx + 1\n",
    "    param = {\n",
    "                'userreviewsoffset': 10 * (page - 1),\n",
    "                'p': page,\n",
    "                'workshopitemspage': page,\n",
    "                'readytouseitemspage': page,\n",
    "                'mtxitemspage': page,\n",
    "                'itemspage': page,\n",
    "                'screenshotspage': page,\n",
    "                'videospage': page,\n",
    "                'artpage': page,\n",
    "                'allguidepage': page,\n",
    "                'webguidepage': page,\n",
    "                'integratedguidepage': page,\n",
    "                'discussionspage': page,\n",
    "                'numperpage': 10,\n",
    "                'browsefilter': 'toprated',\n",
    "                'appHubSubSection': 10,\n",
    "                'l': 'english',\n",
    "                'filterLanguage': 'default',\n",
    "                'searchText': '',\n",
    "                'forceanon': 1\n",
    "            }\n",
    "\n",
    "    response = requests.get(site,params=param)\n",
    "    bs = BeautifulSoup(response.content, 'html.parser')\n",
    "    div_list = bs.select('.apphub_CardContentMain')\n",
    "    for apphub_UserReviewCardContent in div_list :\n",
    "        helpful = apphub_UserReviewCardContent.select('.found_helpful')[0].text\n",
    "        helpful = helpful.strip()\n",
    "        title = apphub_UserReviewCardContent.select('.title')[0].text\n",
    "        date = apphub_UserReviewCardContent.select('.date_posted')[0].text\n",
    "        date= date.strip()\n",
    "        date = date.replace('Posted: ','')\n",
    "        reviews = apphub_UserReviewCardContent.select('.apphub_CardTextContent')[0].text\n",
    "        reviews = reviews.strip() # 좌우 공백 제거\n",
    "        reviews = re.sub('[\\r\\t]','',reviews) # 특수문자 제거\n",
    "        reviews = reviews.splitlines(True)[1:] # 첫번째줄 제거(날짜 때문에)\n",
    "        reviews = ''.join(reviews) # 리스트를 다시 문자열로 변경\n",
    "        \n",
    "\n",
    "       # print(found_helpful)\n",
    "        #print(title)\n",
    "        #print(apphub_CardTextContent)\n",
    "        #print('-------------------------------------------------')\n",
    "        df = pd.DataFrame([[helpful, title,date,reviews]])\n",
    "        if os.path.exists('Dungreed.csv') == False :\n",
    "            df.columns = ['helpful', 'title','date','reviews']\n",
    "            df.to_csv('Dungreed.csv', index=False, encoding='utf-8-sig')\n",
    "        else :\n",
    "            df.to_csv('Dungreed.csv', index=False, encoding='utf-8-sig', mode='a', header=False)"
   ]
  }
 ],
 "metadata": {
  "kernelspec": {
   "display_name": "Python 3",
   "language": "python",
   "name": "python3"
  },
  "language_info": {
   "codemirror_mode": {
    "name": "ipython",
    "version": 3
   },
   "file_extension": ".py",
   "mimetype": "text/x-python",
   "name": "python",
   "nbconvert_exporter": "python",
   "pygments_lexer": "ipython3",
   "version": "3.7.0"
  }
 },
 "nbformat": 4,
 "nbformat_minor": 2
}
